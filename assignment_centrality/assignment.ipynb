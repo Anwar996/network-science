{
 "cells": [
  {
   "cell_type": "markdown",
   "metadata": {},
   "source": [
    "# Assignment — Centrality measures"
   ]
  },
  {
   "cell_type": "code",
   "execution_count": null,
   "metadata": {},
   "outputs": [],
   "source": [
    "import numpy as np\n",
    "from typing import Dict, List\n",
    "import pandas as pd\n",
    "from scipy.sparse.csgraph import reverse_cuthill_mckee\n",
    "import networkx as nx\n",
    "import requests\n",
    "import matplotlib.pyplot as plt\n",
    "import seaborn as sns\n",
    "from scipy.sparse import csr_matrix\n",
    "from sklearn.metrics.pairwise import cosine_similarity"
   ]
  },
  {
   "cell_type": "markdown",
   "metadata": {},
   "source": [
    "In this assignment, we will use Moscow Metro underground stations dataset taken from [Moscow Subway Optimal* Complete Route](https://medium.com/altsoph/moscow-subway-optimal-complete-route-ac98796dd652) research. Let us download and take a look at the data."
   ]
  },
  {
   "cell_type": "code",
   "execution_count": null,
   "metadata": {},
   "outputs": [],
   "source": [
    "station_url = 'https://raw.githubusercontent.com/netspractice/network-science/main/datasets/stations_data.txt'\n",
    "routes_url = 'https://raw.githubusercontent.com/netspractice/network-science/main/datasets/routes_data.txt'"
   ]
  },
  {
   "cell_type": "code",
   "execution_count": null,
   "metadata": {},
   "outputs": [],
   "source": [
    "stations = pd.read_csv(station_url)\n",
    "routes = pd.read_csv(routes_url)"
   ]
  },
  {
   "cell_type": "code",
   "execution_count": null,
   "metadata": {},
   "outputs": [],
   "source": [
    "stations.head()"
   ]
  },
  {
   "cell_type": "code",
   "execution_count": null,
   "metadata": {},
   "outputs": [],
   "source": [
    "routes.head()"
   ]
  },
  {
   "cell_type": "markdown",
   "metadata": {},
   "source": [
    "### Task 1. Metro graph (1 points)"
   ]
  },
  {
   "cell_type": "markdown",
   "metadata": {},
   "source": [
    "Before we start analyzing centrality, let us build a graph of stations.\n",
    "\n",
    "Write a function `metro_graph` that takes datasets `stations` and `routes` and returns a graph with all stations and routes of any type. Labels of nodes are in column `stations.id`. Nodes in `G.nodes` viewer should be in ascending order. All nodes should have attributes `station_name` and `line_name`."
   ]
  },
  {
   "cell_type": "code",
   "execution_count": null,
   "metadata": {
    "deletable": false,
    "nbgrader": {
     "cell_type": "code",
     "checksum": "8c54e6021de80068147963f12353dcfe",
     "grade": false,
     "grade_id": "cell-96fa1082742a036a",
     "locked": false,
     "schema_version": 3,
     "solution": true,
     "task": false
    }
   },
   "outputs": [],
   "source": [
    "def metro_graph(stations: pd.DataFrame, routes: pd.DataFrame) -> nx.Graph:\n",
    "    \"\"\"\n",
    "    Build a graph with metro stations and routes\n",
    "    \n",
    "    :param stations: dataframe with undeground stations (nodes) description, column id is used for node id in the nx.Graph\n",
    "    :param routes: edgelist for undeground graph. id_from is source and id_to is target nodes.\n",
    "    :return: graph of Moscow undeground\n",
    "    \"\"\"\n",
    "    # YOUR CODE HERE\n",
    "    raise NotImplementedError()"
   ]
  },
  {
   "cell_type": "code",
   "execution_count": null,
   "metadata": {
    "deletable": false,
    "editable": false,
    "nbgrader": {
     "cell_type": "code",
     "checksum": "41c4104f48a557c502c0f6464c15439c",
     "grade": true,
     "grade_id": "cell-c6f1237f3a4eaaa9",
     "locked": true,
     "points": 0.33,
     "schema_version": 3,
     "solution": false,
     "task": false
    }
   },
   "outputs": [],
   "source": [
    "'''Check ordering of nodes, number of nodes, names of stations and lines'''\n",
    "G = metro_graph(stations, routes)\n",
    "assert (np.array(list(G.nodes)) == np.arange(194)).sum() == 194\n",
    "assert G.number_of_edges() == 228\n",
    "assert G.nodes[100]['station_name'] == 'Shabolovskaya'\n",
    "assert G.nodes[100]['line_name'] == 'Kaluzhsko-Rizhskaya'"
   ]
  },
  {
   "cell_type": "markdown",
   "metadata": {},
   "source": [
    "Let us draw the graph with default spring layout."
   ]
  },
  {
   "cell_type": "code",
   "execution_count": null,
   "metadata": {},
   "outputs": [],
   "source": [
    "plt.figure(figsize=(10, 8))\n",
    "nx.draw(G, \n",
    "        width=0.5,\n",
    "        node_size=60)\n",
    "plt.show()"
   ]
  },
  {
   "cell_type": "markdown",
   "metadata": {},
   "source": [
    "So far it does not look like a metro map. Let us specify a distance based layout using information from the dataset `stations`.\n",
    "\n",
    "Write a function `metro_layout` that takes the dataset `stations` and returns a dictionary with nodes as keys and positions as values:\n",
    "```\n",
    "{node_id: [longitude, latitude]}\n",
    "```"
   ]
  },
  {
   "cell_type": "code",
   "execution_count": null,
   "metadata": {
    "deletable": false,
    "nbgrader": {
     "cell_type": "code",
     "checksum": "b3a33086e68d835c9a3b1f97e4c635c9",
     "grade": false,
     "grade_id": "cell-7ca2e105bb2493b1",
     "locked": false,
     "schema_version": 3,
     "solution": true,
     "task": false
    }
   },
   "outputs": [],
   "source": [
    "def metro_layout(stations: pd.DataFrame) -> Dict[int, List[float]]:\n",
    "    \"\"\"\n",
    "    Build a distance based layout of the metro graph\n",
    "    \n",
    "    :param stations: dataframe with undeground stations (nodes) description, column id is used for node id in the nx.Graph.\n",
    "        lat and lon is geo coordinates of station.\n",
    "    :return: geo layout of Moscow undeground\n",
    "    \"\"\"\n",
    "    # YOUR CODE HERE\n",
    "    raise NotImplementedError()"
   ]
  },
  {
   "cell_type": "code",
   "execution_count": null,
   "metadata": {
    "deletable": false,
    "editable": false,
    "nbgrader": {
     "cell_type": "code",
     "checksum": "c38eb59027741aca1f2b251d488880c3",
     "grade": true,
     "grade_id": "cell-b5e28f603eaba3a6",
     "locked": true,
     "points": 0.33,
     "schema_version": 3,
     "solution": false,
     "task": false
    }
   },
   "outputs": [],
   "source": [
    "'''Check a type and positions of some random nodes'''\n",
    "pos = metro_layout(stations)\n",
    "assert type(pos) == dict\n",
    "assert len(pos) == 194\n",
    "assert pos[100] == [37.6078018, 55.71882329]\n",
    "assert pos[172] == [37.72840065, 55.69297728]"
   ]
  },
  {
   "cell_type": "markdown",
   "metadata": {},
   "source": [
    "Let us draw the graph with the distance based layout."
   ]
  },
  {
   "cell_type": "code",
   "execution_count": null,
   "metadata": {},
   "outputs": [],
   "source": [
    "plt.figure(figsize=(10, 8))\n",
    "nx.draw(G, \n",
    "        pos,\n",
    "        width=0.5,\n",
    "        node_size=60)\n",
    "plt.show()"
   ]
  },
  {
   "cell_type": "markdown",
   "metadata": {},
   "source": [
    "The final preprocessing step, let us colorize stations by their lines.\n",
    "\n",
    "Write a function `station_color` that takes a graph `G` and returns a dictionary with nodes as keys and color as values. Colors are given in the `line_color` dictionary."
   ]
  },
  {
   "cell_type": "code",
   "execution_count": null,
   "metadata": {},
   "outputs": [],
   "source": [
    "line_color = {\n",
    "    'Sokolnicheskaya': 'tab:red',\n",
    "    'Zamoskvoretskaya': 'tab:green',\n",
    "    'Arbatsko-Pokrovskaya': 'tab:blue',\n",
    "    'Filevskaya': 'deepskyblue',\n",
    "    'Koltsevaya': 'tab:brown',\n",
    "    'Kaluzhsko-Rizhskaya': 'tab:orange',\n",
    "    'Tagansko-Krasnopresnenskaya': 'tab:purple', \n",
    "    'Kalininskaya': 'gold',\n",
    "    'Serpuhovsko-Timiryazevskaya': 'gray', \n",
    "    'Lyublinsko-Dmitrovskaya': 'yellowgreen',\n",
    "    'Kahovskaya': 'paleturquoise', \n",
    "    'Butovskaya': 'lightblue', \n",
    "    'Monorels': 'royalblue'\n",
    "}"
   ]
  },
  {
   "cell_type": "code",
   "execution_count": null,
   "metadata": {
    "deletable": false,
    "nbgrader": {
     "cell_type": "code",
     "checksum": "583a8477b61ed7a7793c690f13b99e5d",
     "grade": false,
     "grade_id": "cell-2f1d4177661a9582",
     "locked": false,
     "schema_version": 3,
     "solution": true,
     "task": false
    }
   },
   "outputs": [],
   "source": [
    "def station_color(G: nx.Graph, line_color: Dict[str, str] = line_color) -> Dict[int, str]:\n",
    "    \"\"\"\n",
    "    Defines color of stations\n",
    "    \n",
    "    :param G: graph of Moscow undeground\n",
    "    :param line_color: mapping of undeground lines to colors\n",
    "    :return: mapping of node ids to its colors \n",
    "    \"\"\"\n",
    "    # YOUR CODE HERE\n",
    "    raise NotImplementedError()"
   ]
  },
  {
   "cell_type": "code",
   "execution_count": null,
   "metadata": {
    "deletable": false,
    "editable": false,
    "nbgrader": {
     "cell_type": "code",
     "checksum": "6f5625e01be4c739c798717166a3df7a",
     "grade": true,
     "grade_id": "cell-8777de6843545b61",
     "locked": true,
     "points": 0.33999999999999997,
     "schema_version": 3,
     "solution": false,
     "task": false
    }
   },
   "outputs": [],
   "source": [
    "'''Check a type and colors of some random nodes'''\n",
    "nx.set_node_attributes(G, station_color(G), 'color')\n",
    "assert type(station_color(G)) == dict\n",
    "assert len(station_color(G)) == 194\n",
    "assert station_color(G)[9] == 'tab:red'\n",
    "assert station_color(G)[193] == 'royalblue'\n",
    "assert station_color(G)[119] == 'tab:purple'"
   ]
  },
  {
   "cell_type": "markdown",
   "metadata": {},
   "source": [
    "Let us draw the graph with the distance based layout and stations colors."
   ]
  },
  {
   "cell_type": "code",
   "execution_count": null,
   "metadata": {},
   "outputs": [],
   "source": [
    "plt.figure(figsize=(10, 8))\n",
    "nx.draw(\n",
    "    G, \n",
    "    pos,\n",
    "    width=0.5,\n",
    "    node_color=list(nx.get_node_attributes(G, 'color').values()),\n",
    "    node_size=60,\n",
    ")\n",
    "plt.show()"
   ]
  },
  {
   "cell_type": "markdown",
   "metadata": {},
   "source": [
    "### Task 2. Degree, closeness, betweenness centralities (1 points)"
   ]
  },
  {
   "cell_type": "markdown",
   "metadata": {},
   "source": [
    "Let us look at centrality measures of the metro stations graph. First, use networkx to calculate degree, closeness, betweenness centralities.\n",
    "\n",
    "Write a function `centralities` that takes a graph `G` and returns a dictionary with keys `degree`, `closeness`, `betweenness`. The values are np.arrays with values of each centrality."
   ]
  },
  {
   "cell_type": "code",
   "execution_count": null,
   "metadata": {
    "deletable": false,
    "nbgrader": {
     "cell_type": "code",
     "checksum": "9d4d2c85577e5707ea38c40285fe67f2",
     "grade": false,
     "grade_id": "cell-8ef9147d12ad6ac4",
     "locked": false,
     "schema_version": 3,
     "solution": true,
     "task": false
    }
   },
   "outputs": [],
   "source": [
    "def centralities(G: nx.Graph) -> Dict[str, np.array]:\n",
    "    \"\"\"\n",
    "    Calculate degree, closeness, betweenness centralities of the graph\n",
    "    \n",
    "    :param G: Moscow undeground graph\n",
    "    :return: mapping of centrality names (degree, closeness, betweenness) to np.array of its values\n",
    "    \"\"\"\n",
    "    # YOUR CODE HERE\n",
    "    raise NotImplementedError()"
   ]
  },
  {
   "cell_type": "code",
   "execution_count": null,
   "metadata": {
    "deletable": false,
    "editable": false,
    "nbgrader": {
     "cell_type": "code",
     "checksum": "c3cbcb5adc41f05199f7df7092e6adae",
     "grade": true,
     "grade_id": "cell-dd093037fa7756f4",
     "locked": true,
     "points": 0.5,
     "schema_version": 3,
     "solution": false,
     "task": false
    }
   },
   "outputs": [],
   "source": [
    "'''Check some random values of centralities'''\n",
    "c = centralities(G)\n",
    "assert c['degree'].shape[0] == 194\n",
    "assert c['degree'][193] == 0.0051813471502590676\n",
    "assert c['closeness'][94] == 0.12107904642409034\n",
    "assert c['betweenness'][49] == 0.0991400402993669"
   ]
  },
  {
   "cell_type": "markdown",
   "metadata": {},
   "source": [
    "Next, let us create a table with top 10 nodes for each centrality.\n",
    "\n",
    "Write a function `top10_centralities` that takes a graph `G` and returns a dictionary with keys `degree`, `closeness`, `betweenness`. The values are pd.DataFrames with columns:\n",
    "* `station` — station name\n",
    "* `line` — line name\n",
    "* `centrality` — value of a centrality\n",
    "\n",
    "Each dataframe contains 10 rows with highest centrality values."
   ]
  },
  {
   "cell_type": "code",
   "execution_count": null,
   "metadata": {
    "deletable": false,
    "nbgrader": {
     "cell_type": "code",
     "checksum": "05481e356ffebb1abfb97780f5e7ef4b",
     "grade": false,
     "grade_id": "cell-3dad4de0a9186415",
     "locked": false,
     "schema_version": 3,
     "solution": true,
     "task": false
    }
   },
   "outputs": [],
   "source": [
    "def top10_centralities(G: nx.Graph) -> Dict[str, pd.DataFrame]:\n",
    "    \"\"\"\n",
    "    Create table of top 10 nodes by degree, closeness, betweenness centralities\n",
    "    \n",
    "    :param G: graph of Moscow undeground\n",
    "    :return: mapping of station name to the dataframe with columns (station, line, centrality)\n",
    "    \"\"\"\n",
    "    # YOUR CODE HERE\n",
    "    raise NotImplementedError()"
   ]
  },
  {
   "cell_type": "code",
   "execution_count": null,
   "metadata": {
    "deletable": false,
    "editable": false,
    "nbgrader": {
     "cell_type": "code",
     "checksum": "301fef24e5ca354ca785826dc8cd8a4b",
     "grade": true,
     "grade_id": "cell-0bfea33ff1fcf96c",
     "locked": true,
     "points": 0.5,
     "schema_version": 3,
     "solution": false,
     "task": false
    }
   },
   "outputs": [],
   "source": [
    "'''Check that some random nodes are in the top 10 tables'''\n",
    "top_dfs = top10_centralities(G)\n",
    "assert 'Biblioteka imeni Lenina' in top_dfs['degree']['station'].to_list()\n",
    "assert 'Serpuhovskaya' in top_dfs['betweenness']['station'].to_list()\n",
    "assert 'Teatralnaya' in top_dfs['closeness']['station'].to_list()\n",
    "assert 'Arbatsko-Pokrovskaya' in top_dfs['closeness']['line'].to_list()"
   ]
  },
  {
   "cell_type": "markdown",
   "metadata": {},
   "source": [
    "Following code makes a visualization: for each centrality it prints a top 10 table and graph, where the node size and color correspond to the centrality value."
   ]
  },
  {
   "cell_type": "code",
   "execution_count": null,
   "metadata": {},
   "outputs": [],
   "source": [
    "cases = [['degree', 5000, 0, 'Degree centrality'], \n",
    "         ['closeness', 700, 0, 'Closeness centrality'], \n",
    "         ['betweenness', 900, 20, 'Betweenness centrality']]\n",
    "for c_key, scale, bias, title in cases:\n",
    "    print(title)\n",
    "    display(top_dfs[c_key])\n",
    "    plt.figure(figsize=(10, 8))\n",
    "    nx.draw(G, \n",
    "            pos,\n",
    "            width=0.5,\n",
    "            linewidths=0.5,\n",
    "            edgecolors='black',\n",
    "            cmap=plt.cm.hot,\n",
    "            node_size=c[c_key]*scale + bias,\n",
    "            node_color=c[c_key])\n",
    "    plt.show()"
   ]
  },
  {
   "cell_type": "markdown",
   "metadata": {},
   "source": [
    "### Task 3. Center of a graph (1 points)"
   ]
  },
  {
   "cell_type": "markdown",
   "metadata": {},
   "source": [
    "In the next section we will slightly modify the initial graph — truncate all stations that located outside of Sadovoye ring.\n",
    "Sadovoye ring is the region that includes all stations on the Koltsevaya line, all stations of radial lines that intersect Koltsevaya line and all stations that contains inside the circle.\n",
    "\n",
    "Write a function `metro_graph_center` that takes a metro graph `G` and returns a subgraph with stations inside Sadovoye ring.\n",
    "\n",
    "_Hint: use centrality_"
   ]
  },
  {
   "cell_type": "code",
   "execution_count": null,
   "metadata": {
    "deletable": false,
    "nbgrader": {
     "cell_type": "code",
     "checksum": "010c3d9a577638105a7ad8a3fa9c3318",
     "grade": false,
     "grade_id": "cell-7e22abcc984c16d2",
     "locked": false,
     "schema_version": 3,
     "solution": true,
     "task": false
    }
   },
   "outputs": [],
   "source": [
    "def metro_graph_center(G: nx.Graph) -> nx.Graph:\n",
    "    \"\"\"\n",
    "    Build a subgraph with stations inside the Sadovoye ring\n",
    "    \n",
    "    :param G: graph of Moscow undeground\n",
    "    :return: subgraph of Moscow undeground stations that is located inside Sadovoye ring.\n",
    "    \"\"\"\n",
    "    central_nodes = []\n",
    "    # YOUR CODE HERE\n",
    "    raise NotImplementedError()\n",
    "    return G.subgraph(central_nodes).copy()"
   ]
  },
  {
   "cell_type": "code",
   "execution_count": null,
   "metadata": {
    "deletable": false,
    "editable": false,
    "nbgrader": {
     "cell_type": "code",
     "checksum": "0b8866964e35660ef693c68319f800f0",
     "grade": true,
     "grade_id": "cell-da2bb8cea6d1507c",
     "locked": true,
     "points": 1.0,
     "schema_version": 3,
     "solution": false,
     "task": false
    }
   },
   "outputs": [],
   "source": [
    "'''Check the number of nodes and edges and some random stations'''\n",
    "subG = metro_graph_center(G)\n",
    "assert len(subG.nodes) == 57\n",
    "assert len(subG.edges) == 85\n",
    "assert 149 in list(subG.nodes)\n",
    "assert 82 in list(subG.nodes)\n",
    "assert 137 in list(subG.nodes)"
   ]
  },
  {
   "cell_type": "markdown",
   "metadata": {},
   "source": [
    "Let us draw the center of the metro graph with station names and colors."
   ]
  },
  {
   "cell_type": "code",
   "execution_count": null,
   "metadata": {},
   "outputs": [],
   "source": [
    "plt.figure(figsize=(10, 8))\n",
    "nx.draw(subG, \n",
    "        pos,\n",
    "        width=0.5,\n",
    "        node_color=list(nx.get_node_attributes(subG, 'color').values()),\n",
    "        labels=nx.get_node_attributes(subG, 'station_name'),\n",
    "        font_size=10)\n",
    "plt.show()"
   ]
  },
  {
   "cell_type": "markdown",
   "metadata": {},
   "source": [
    "### Task 4. Centrality centralization (2 points)"
   ]
  },
  {
   "cell_type": "markdown",
   "metadata": {},
   "source": [
    "The center of the metro graph looks a bit like a circular graph. We can see that a circular graph has the lowest centralization since\n",
    "\n",
    "$$\\text{Centralization} = \\frac{\\sum_i^N[C_x(p_*) - C_x(p_i)]}{\\max\\sum_i^N[C_x(p_*) - C_x(p_i)]}$$\n",
    "\n",
    "where \n",
    "* $C_x$ — some centrality measure\n",
    "* $p_i$ — $i$-th node\n",
    "* $p_*$ — node with the largest centrality value\n",
    "* $\\max$ — maximum over all possible graphs with the same number of nodes (a star graph for degree, betweenness, closeness centralities).\n",
    "\n",
    "Let us check how centralization changes during transformation our truncated graph into a pure circular graph.\n",
    "\n",
    "Write a function `centralization_seq` that takes the truncated graph `G` and deletes stations except of Koltsevaya line one-by-one in ascending order on node ids (i.e. result of `sorted` function). In each step after removal, the centralization is calculated. The function returns a tuple:\n",
    "* a dictionary where keys are `degree`, `closeness`, `betweenness` and values are np.arrays with centralization values\n",
    "* a list of ordered removed nodes"
   ]
  },
  {
   "cell_type": "code",
   "execution_count": null,
   "metadata": {
    "deletable": false,
    "nbgrader": {
     "cell_type": "code",
     "checksum": "5a86f7fc4fe822f32359475b0b5a1415",
     "grade": false,
     "grade_id": "cell-599d21555a10592f",
     "locked": false,
     "schema_version": 3,
     "solution": true,
     "task": false
    }
   },
   "outputs": [],
   "source": [
    "def centralization_seq(G: nx.Graph) -> (Dict[str, np.array], List[str]):\n",
    "    # YOUR CODE HERE\n",
    "    raise NotImplementedError()"
   ]
  },
  {
   "cell_type": "code",
   "execution_count": null,
   "metadata": {
    "deletable": false,
    "editable": false,
    "nbgrader": {
     "cell_type": "code",
     "checksum": "5261fd7e432ab28f36bffbd82254f227",
     "grade": true,
     "grade_id": "cell-19b3b60a79fa0348",
     "locked": true,
     "points": 2.0,
     "schema_version": 3,
     "solution": false,
     "task": false
    }
   },
   "outputs": [],
   "source": [
    "'''Check the output shape and some random centralization values'''\n",
    "cent, order = centralization_seq(subG)\n",
    "assert len(order) == 45\n",
    "assert order[0] == 5\n",
    "assert order[-1] == 167\n",
    "assert cent['degree'].shape == (45,)\n",
    "assert cent['closeness'].shape == (45,)\n",
    "assert cent['betweenness'].shape == (45,)\n",
    "assert cent['degree'][-1] == cent['betweenness'][-1] == cent['closeness'][-1]\n",
    "assert cent['degree'][41].round(4) == 0.0824\n",
    "assert cent['degree'][2].round(4) == 0.0406\n",
    "assert cent['closeness'][11].round(4) == 0.0785\n",
    "assert cent['closeness'][9].round(4) == 0.0814\n",
    "assert cent['betweenness'][14].round(4) == 0.1178"
   ]
  },
  {
   "cell_type": "markdown",
   "metadata": {},
   "source": [
    "Let us draw how the centralization changes when the graph tends to a circular graph."
   ]
  },
  {
   "cell_type": "code",
   "execution_count": null,
   "metadata": {},
   "outputs": [],
   "source": [
    "plt.figure(figsize=(7, 5))\n",
    "plt.plot(cent['degree'], label='Degree')\n",
    "plt.plot(cent['closeness'], label='Closeness')\n",
    "plt.plot(cent['betweenness'], label='Betweenness')\n",
    "plt.ylabel('Centralization')\n",
    "plt.xlabel('Number of deleted nodes')\n",
    "plt.axvline(16, linestyle='--', color='C4', alpha=0.5)\n",
    "plt.axvline(30, linestyle='--', color='C4', alpha=0.5)\n",
    "plt.axvline(37, linestyle='--', color='C4', alpha=0.5)\n",
    "plt.axvline(41, linestyle='--', color='C4', alpha=0.5)\n",
    "plt.legend()\n",
    "plt.show()"
   ]
  },
  {
   "cell_type": "markdown",
   "metadata": {},
   "source": [
    "We can see the significant peaks in betweenness centralization. Higher centralization means that centrality measures unevenly distributed over nodes. Betweenness centrality for specific node indicates how much shortest paths pass through this node. Peaks signalize that we break some shortests paths after node deletion, so new shortest paths should go through a little number of specific nodes. Let us visualize graph before and after deletion of a node under index `37` (Tsvetnoy bulvar), to understand this effect."
   ]
  },
  {
   "cell_type": "code",
   "execution_count": null,
   "metadata": {},
   "outputs": [],
   "source": [
    "plt.figure(figsize=(12, 6))\n",
    "cases = [[36, [147, 77, 78, 79, 80]], [37, [77, 78, 79, 80]]]\n",
    "station_names = nx.get_node_attributes(subG, 'station_name')\n",
    "for i, (node_id, stations) in enumerate(cases):\n",
    "    plt.subplot(1, 2, i+1)\n",
    "    s = subG.copy()\n",
    "    s.remove_nodes_from(order[:node_id + 1])\n",
    "    betw = nx.betweenness_centrality(s)\n",
    "    nx.draw(\n",
    "        s,\n",
    "        pos,\n",
    "        width=0.5,\n",
    "        node_color=list(nx.get_node_attributes(s, 'color').values()),\n",
    "        node_size=[(j*60 + 5)**2 for i, j in betw.items()],\n",
    "        labels={n:v for n, v in station_names.items() if n in stations})\n",
    "    plt.title('Betweenness centralization: {:.2f}'.format(cent['betweenness'][node_id]))"
   ]
  },
  {
   "cell_type": "markdown",
   "metadata": {},
   "source": [
    "Tsvetnoy bulvar is a node targeted for deletion on the next step. The node size is betweenness centrality. On the first graph we can see, that exists a cycle of gray and light green line, so all nodes on that lines can easily access each other via shortest path. However, after deletion of Tsvetnoy bulvar, the cycle is broken. So to connect stations between gray and light green lines, it is required to pass through line intersection with Koltsevaya and some stations on it. It raises the value of betwenness centrality for such nodes (e.g. Dobryninskaya, Paveletskaya, Taganskaya, Kurskaya), keeping the old values for the rest of graph. It leads to the increase of overall graph centralization for betwenness centrality."
   ]
  },
  {
   "cell_type": "markdown",
   "metadata": {},
   "source": [
    "### Task 5. PageRank algorithm (1 points)"
   ]
  },
  {
   "cell_type": "markdown",
   "metadata": {},
   "source": [
    "Implement PageRank algorithm. A function `page_rank` takes a graph `G`, transition coefficient `alpha` and number of iterations `k`. The function returns np.array of PageRank scores.\n"
   ]
  },
  {
   "cell_type": "code",
   "execution_count": null,
   "metadata": {
    "deletable": false,
    "editable": false,
    "nbgrader": {
     "cell_type": "code",
     "checksum": "c223056ef7ffd6f1f880a21421b5f24d",
     "grade": false,
     "grade_id": "cell-03522d80086a8dd6",
     "locked": true,
     "schema_version": 3,
     "solution": false,
     "task": false
    }
   },
   "outputs": [],
   "source": [
    "'''Do not touch the cell'''\n",
    "def page_rank(G, alpha, k):\n",
    "    A = nx.to_numpy_array(G)\n",
    "    P = transition_matrix(A)\n",
    "    v = teleportation_vector(A)\n",
    "    rank = np.ones(A.shape[0]) / A.shape[0]\n",
    "    for _ in range(k):\n",
    "        rank = update_rank(rank, P, v, alpha)\n",
    "    return rank / rank.sum()"
   ]
  },
  {
   "cell_type": "markdown",
   "metadata": {},
   "source": [
    "Write a function `transition_matrix` that takes a np.array with an adjacency matrix `A` and returns a np.array with a transition matrix where an entry $p_{ij}$ equals to probability of going to $j$ if we are in $i$."
   ]
  },
  {
   "cell_type": "code",
   "execution_count": null,
   "metadata": {
    "deletable": false,
    "nbgrader": {
     "cell_type": "code",
     "checksum": "41fabd4dacdb93925ce7d57242c12fad",
     "grade": false,
     "grade_id": "cell-8fd0d5cff01278ae",
     "locked": false,
     "schema_version": 3,
     "solution": true,
     "task": false
    }
   },
   "outputs": [],
   "source": [
    "def transition_matrix(A):\n",
    "    # YOUR CODE HERE\n",
    "    raise NotImplementedError()"
   ]
  },
  {
   "cell_type": "code",
   "execution_count": null,
   "metadata": {
    "deletable": false,
    "editable": false,
    "nbgrader": {
     "cell_type": "code",
     "checksum": "04c55c3a5c7028dbf342355e936c7ab5",
     "grade": true,
     "grade_id": "cell-d01ac29b194c8d66",
     "locked": true,
     "points": 0.5,
     "schema_version": 3,
     "solution": false,
     "task": false
    }
   },
   "outputs": [],
   "source": [
    "A = [[0, 1, 1], # probability P(0→1) = P(0→2) = 1/2\n",
    "     [0, 0, 1], # probability P(1→2) = 1\n",
    "     [1, 0, 0]] # probability P(2→0) = 1\n",
    "A = np.array(A)\n",
    "tran_sum = transition_matrix(A).sum(axis=1)\n",
    "assert tran_sum[0] == tran_sum[1] == tran_sum[2] == 1"
   ]
  },
  {
   "cell_type": "markdown",
   "metadata": {},
   "source": [
    "Write a function `teleportation_vector` that takes a np.array with an adjacency matrix `A` and returns a np.array with a teleportation vector where $p_i$ is a probability to teleport to a node $i$ (by default it is a uniform distribution)."
   ]
  },
  {
   "cell_type": "code",
   "execution_count": null,
   "metadata": {
    "deletable": false,
    "nbgrader": {
     "cell_type": "code",
     "checksum": "c51d5421bb76304666a90ab8b03f5cb1",
     "grade": false,
     "grade_id": "cell-f0bcf9124c0d7bdd",
     "locked": false,
     "schema_version": 3,
     "solution": true,
     "task": false
    }
   },
   "outputs": [],
   "source": [
    "def teleportation_vector(A):\n",
    "    # YOUR CODE HERE\n",
    "    raise NotImplementedError()"
   ]
  },
  {
   "cell_type": "code",
   "execution_count": null,
   "metadata": {
    "deletable": false,
    "editable": false,
    "nbgrader": {
     "cell_type": "code",
     "checksum": "2117d1aefb1ef264fe92fd7a4465dda8",
     "grade": true,
     "grade_id": "cell-068e341ddd0332ba",
     "locked": true,
     "points": 0.5,
     "schema_version": 3,
     "solution": false,
     "task": false
    }
   },
   "outputs": [],
   "source": [
    "assert teleportation_vector(A).sum() == 1"
   ]
  },
  {
   "cell_type": "markdown",
   "metadata": {},
   "source": [
    "Write a function `update_rank`. Check the function `page_rank` to understand parameters. An iterative process is defined as\n",
    "\n",
    "$$\\begin{matrix}\n",
    "r &=& \\text{transition} &+& \\text{teleportation}\\\\\n",
    "r &=& \\alpha P^T r &+& (1 - \\alpha)v\n",
    "\\end{matrix}\n",
    "$$\n",
    "\n",
    "where $P$ is a transition matrix, $v$ is a teleportation vector."
   ]
  },
  {
   "cell_type": "code",
   "execution_count": null,
   "metadata": {
    "deletable": false,
    "nbgrader": {
     "cell_type": "code",
     "checksum": "85aa54e35aacb245aa55a8c731257fd4",
     "grade": false,
     "grade_id": "cell-c55a424a1ad9798a",
     "locked": false,
     "schema_version": 3,
     "solution": true,
     "task": false
    }
   },
   "outputs": [],
   "source": [
    "def update_rank(rank, P, v, alpha):\n",
    "    # YOUR CODE HERE\n",
    "    raise NotImplementedError()"
   ]
  },
  {
   "cell_type": "code",
   "execution_count": null,
   "metadata": {},
   "outputs": [],
   "source": [
    "G = nx.path_graph(6, create_using=nx.DiGraph)\n",
    "pr = page_rank(G, 0.9, 100)\n",
    "assert np.all(pr[1:] - pr[:-1] > 0)"
   ]
  },
  {
   "cell_type": "markdown",
   "metadata": {},
   "source": [
    "Let us draw the graph where node size depends on PageRank."
   ]
  },
  {
   "cell_type": "code",
   "execution_count": null,
   "metadata": {},
   "outputs": [],
   "source": [
    "graphs = [\n",
    "    nx.path_graph(6, create_using=nx.DiGraph),\n",
    "    nx.cycle_graph(6, create_using=nx.DiGraph),\n",
    "    nx.DiGraph(nx.path_graph(6)),\n",
    "    nx.erdos_renyi_graph(10, 0.2, directed=True)\n",
    "]\n",
    "for G in graphs:\n",
    "    pr = page_rank(G, 0.9, 100)\n",
    "    nx.draw(\n",
    "        G,\n",
    "        with_labels=True,\n",
    "        node_size=(pr * 1e4),\n",
    "        labels={node: f'{rank:.2f}' for node, rank in enumerate(pr)}\n",
    "    )\n",
    "    plt.show()"
   ]
  },
  {
   "cell_type": "markdown",
   "metadata": {},
   "source": [
    "### Task 6. Personalized PageRank (2 points)"
   ]
  },
  {
   "cell_type": "markdown",
   "metadata": {},
   "source": [
    "Personalized PageRank uses a teleportation vector as personal preferences, so that an important node has high probability to jump into it. Personalized PageRank can be considered as a simple recommender system. Consider a dataset of links between some famous painters on Wikipedia. Common PageRank gives us following ranks."
   ]
  },
  {
   "cell_type": "code",
   "execution_count": null,
   "metadata": {},
   "outputs": [],
   "source": [
    "def plot_painters(G, pr):\n",
    "    pos = nx.kamada_kawai_layout(G)\n",
    "    plt.figure(figsize=(9, 9))\n",
    "    nx.draw_networkx(\n",
    "        G, \n",
    "        pos, \n",
    "        node_size=(pr * 1e4), \n",
    "        labels={node: f'{rank:.2f}' for node, rank in enumerate(pr)})\n",
    "    nx.draw_networkx_labels(\n",
    "        G, \n",
    "        pos={node: pos[node] + [0, 0.05] for node in pos}, \n",
    "        labels=nx.get_node_attributes(G, 'name')\n",
    "    )\n",
    "\n",
    "url = 'https://raw.githubusercontent.com/netspractice/network-science/main/datasets/painters_graph.gml'\n",
    "open('painters_graph.gml', 'wb').write(requests.get(url).content)\n",
    "G = nx.read_gml('painters_graph.gml')\n",
    "G = nx.convert_node_labels_to_integers(G)\n",
    "pr = np.array([rank for node, rank in nx.pagerank(G, alpha=0.9).items()])\n",
    "plot_painters(G, pr)\n",
    "plt.show()"
   ]
  },
  {
   "cell_type": "markdown",
   "metadata": {},
   "source": [
    "Now let us calculate personalized PageRank based on user's preferences. Construct a teleportation vector so that painters a user likes are proportional to ones and others are zeros.\n",
    "\n",
    "Write a function `personalized_pr` that takes an argument of common PageRank and a list `pref` that contains names of painters that user likes. The function returns personalized PageRank."
   ]
  },
  {
   "cell_type": "code",
   "execution_count": null,
   "metadata": {
    "deletable": false,
    "nbgrader": {
     "cell_type": "code",
     "checksum": "37f614366665e1e66886f5964b581c8b",
     "grade": false,
     "grade_id": "cell-60a4fc6b367cfadc",
     "locked": false,
     "schema_version": 3,
     "solution": true,
     "task": false
    }
   },
   "outputs": [],
   "source": [
    "def personalized_pr(G, alpha, pref, k):\n",
    "    # YOUR CODE HERE\n",
    "    raise NotImplementedError()"
   ]
  },
  {
   "cell_type": "code",
   "execution_count": null,
   "metadata": {
    "deletable": false,
    "editable": false,
    "nbgrader": {
     "cell_type": "code",
     "checksum": "344cdc99aa4f0e71c9c92a61dbd3ae57",
     "grade": true,
     "grade_id": "cell-3653c3a8d9f562fc",
     "locked": true,
     "points": 2.0,
     "schema_version": 3,
     "solution": false,
     "task": false
    }
   },
   "outputs": [],
   "source": [
    "pref = ['Pablo Picasso', 'Edgar Degas']\n",
    "pr1 = personalized_pr(G, alpha=0.9, pref=pref, k=100)\n",
    "pref = ['Edgar Degas']\n",
    "pr2 = personalized_pr(G, alpha=0.9, pref=pref, k=100)\n",
    "assert np.isclose(pr1.sum(), 1) and np.isclose(pr2.sum(), 1)\n",
    "assert pr1[0] > pr2[0]\n",
    "assert pr1[7] < pr2[7]"
   ]
  },
  {
   "cell_type": "code",
   "execution_count": null,
   "metadata": {},
   "outputs": [],
   "source": [
    "cases = [\n",
    "    ['Pablo Picasso', 'Edgar Degas'], \n",
    "    ['Edgar Degas'], \n",
    "    ['Henri Matisse']\n",
    "]\n",
    "for pref in cases:\n",
    "    pr = personalized_pr(G, alpha=0.9, pref=pref, k=100)\n",
    "    plot_painters(G, pr)\n",
    "    pref = ', '.join(pref)\n",
    "    plt.title(f'Preferences: {pref}')"
   ]
  },
  {
   "cell_type": "markdown",
   "metadata": {},
   "source": [
    "Low transionion coefficient forces to teleport into prefferential nodes and vice versa, so we can adjust the power of preferences changing transionion coefficient."
   ]
  },
  {
   "cell_type": "code",
   "execution_count": null,
   "metadata": {},
   "outputs": [],
   "source": [
    "pref = ['Pablo Picasso', 'Edgar Degas']\n",
    "alpha = 0.3\n",
    "pr = personalized_pr(G, alpha=alpha, pref=pref, k=100)\n",
    "plot_painters(G, pr)\n",
    "pref = ', '.join(pref)\n",
    "plt.title(f'Preferences: {pref}\\n Transition probablity is {alpha}');"
   ]
  },
  {
   "cell_type": "code",
   "execution_count": null,
   "metadata": {},
   "outputs": [],
   "source": []
  },
  {
   "cell_type": "markdown",
   "metadata": {},
   "source": [
    "### Task 7. HITS visualization (2 points)"
   ]
  },
  {
   "cell_type": "markdown",
   "metadata": {},
   "source": [
    "In this task we will try to find authorities and hubs in political blogs and visualize them. The data is provided from [Political blogosphere Feb. 2005](http://vlado.fmf.uni-lj.si/pub/networks/data/mix/mixed.htm) dataset.\n",
    "\n",
    "The graph contains parallel edges, but HITS algorithm only works without parallel edges. The simplest way to drop parallel edges is to convert a directed multigraph (`nx.MultiDiGraph`) into a directed graph (`nx.DiGraph`).\n",
    "\n",
    "Write a function `hits_polblogs` that takes a path to a gml file with data and returns a tuple with a graph and two dictionaries of the form\n",
    "* `{node: value}`\n",
    "\n",
    "The first dictionary is hub scores, the second one is authority scores. That is, a full output is `(G, hub, auth)`. Apply `nx.hits` to calculate hub and authority scores."
   ]
  },
  {
   "cell_type": "code",
   "execution_count": null,
   "metadata": {
    "deletable": false,
    "nbgrader": {
     "cell_type": "code",
     "checksum": "7a862b6f8bea5ea09f1475476551ca97",
     "grade": false,
     "grade_id": "cell-a1cef6ac5cb166ca",
     "locked": false,
     "schema_version": 3,
     "solution": true,
     "task": false
    }
   },
   "outputs": [],
   "source": [
    "def hits_polblogs(filename):\n",
    "    # YOUR CODE HERE\n",
    "    raise NotImplementedError()"
   ]
  },
  {
   "cell_type": "code",
   "execution_count": null,
   "metadata": {
    "deletable": false,
    "editable": false,
    "nbgrader": {
     "cell_type": "code",
     "checksum": "6664761484eccdd71800fa8f2a329980",
     "grade": true,
     "grade_id": "cell-6613e1dd2efb04ec",
     "locked": true,
     "points": 1.0,
     "schema_version": 3,
     "solution": false,
     "task": false
    }
   },
   "outputs": [],
   "source": [
    "url = 'https://raw.githubusercontent.com/netspractice/network-science/main/datasets/polblogs.gml'\n",
    "open('polblogs.gml', 'wb').write(requests.get(url).content)\n",
    "G, hub, auth = hits_polblogs('polblogs.gml')\n",
    "assert type(G) == nx.DiGraph\n",
    "assert len(hub.values()) == len(auth.values()) == 1490\n",
    "assert round(max(hub.values()), 4) == 0.0069\n",
    "assert round(max(auth.values()), 4) == 0.015"
   ]
  },
  {
   "cell_type": "code",
   "execution_count": null,
   "metadata": {},
   "outputs": [],
   "source": [
    "G.number_of_nodes()"
   ]
  },
  {
   "cell_type": "code",
   "execution_count": null,
   "metadata": {},
   "outputs": [],
   "source": [
    "G.number_of_edges()"
   ]
  },
  {
   "cell_type": "markdown",
   "metadata": {},
   "source": [
    "There are many edges and nodes and it makes hard to draw the whole graph. Then, let us draw a scatter plot with hub and authority scores."
   ]
  },
  {
   "cell_type": "code",
   "execution_count": null,
   "metadata": {},
   "outputs": [],
   "source": [
    "plt.figure(figsize=(7, 7))\n",
    "plt.scatter(hub.values(), auth.values(), s=7)\n",
    "plt.xlabel('Hub')\n",
    "plt.ylabel('Authority')\n",
    "plt.show()"
   ]
  },
  {
   "cell_type": "markdown",
   "metadata": {},
   "source": [
    "Next, draw a graph with 14 nodes: top 7 authorities and top 7 hubs. Hubs will be on the left, authorities will be on the right.\n",
    "\n",
    "Write a function `hits_visualization` that takes a graph `G`, hub, authority dictionaries, the number of top nodes and returns a dictionary with keys:\n",
    "* `h_top` — np.array of top nodes by hub score\n",
    "* `a_top` — np.array of top nodes by authority score\n",
    "* `subG` — subgraph of `G` with top nodes only\n",
    "* `h_vals` — np.array with hub scores (in initial graph) of top nodes that ordered by `subG.nodes` view \n",
    "* `a_vals` — the same for authority score\n",
    "* `pos` — dictionary with keys are nodes and values are x-y positions of the form\n",
    "\n",
    "`{node: [x, y]}` where \n",
    "* x equals to 0 if it is a hub and 1 if it is a authority\n",
    "* y equals to an index of top array\n",
    "\n",
    "That is, x could be 0 or 1 and y could be 0, 1, ..., 6."
   ]
  },
  {
   "cell_type": "code",
   "execution_count": null,
   "metadata": {
    "deletable": false,
    "nbgrader": {
     "cell_type": "code",
     "checksum": "1dc553075ab6d9d8a8e25d51b4af595f",
     "grade": false,
     "grade_id": "cell-649d271bd4a397a7",
     "locked": false,
     "schema_version": 3,
     "solution": true,
     "task": false
    }
   },
   "outputs": [],
   "source": [
    "def hits_visualization(G, hub, auth, top):\n",
    "    # YOUR CODE HERE\n",
    "    raise NotImplementedError()"
   ]
  },
  {
   "cell_type": "code",
   "execution_count": null,
   "metadata": {
    "deletable": false,
    "editable": false,
    "nbgrader": {
     "cell_type": "code",
     "checksum": "85a923ed169312040ca0e88351848015",
     "grade": true,
     "grade_id": "cell-e527d05e1009eca3",
     "locked": true,
     "points": 1.0,
     "schema_version": 3,
     "solution": false,
     "task": false
    }
   },
   "outputs": [],
   "source": [
    "vi = hits_visualization(G, hub, auth, 7)\n",
    "h_top, a_top = vi['h_top'], vi['a_top']\n",
    "h_vals, a_vals = vi['h_vals'], vi['a_vals']\n",
    "subG, pos = vi['subG'], vi['pos']\n",
    "assert h_top.shape[0] == a_top.shape[0] == int(len(subG) / 2) == 7\n",
    "assert 'politicalstrategy.org' == h_top[0]\n",
    "assert 'talkingpointsmemo.com' in a_top\n",
    "assert h_vals.shape == a_vals.shape == (14,)\n",
    "assert h_vals.max() < 0.0069\n",
    "assert 0 <= a_vals.min()\n",
    "assert pos['atrios.blogspot.com'] == [1, 2]\n",
    "assert pos['juancole.com'] == [1, 5]"
   ]
  },
  {
   "cell_type": "markdown",
   "metadata": {},
   "source": [
    "Networkx allows to draw nodes, edges, labels separately. In this case, we need to fix a layout and then draw a graph by layers. Let us draw a graph via `nx.draw_networkx`, then draw right labels and then draw left labels via `nx.draw_networkx_labels`. Also we will crop labels with more than 15 symbols to fit on the screen."
   ]
  },
  {
   "cell_type": "code",
   "execution_count": null,
   "metadata": {},
   "outputs": [],
   "source": [
    "plt.figure(figsize=(12, 8*2))\n",
    "\n",
    "h_labels = {i:i[:15] if len(i)<=15 else i[:15] + '...' for i in h_top}\n",
    "a_labels = {i:i[:15] if len(i)<=15 else i[:15] + '...' for i in a_top}\n",
    "a_pos = {node:(pos[node][0] + 0.1, pos[node][1]) for node in pos}\n",
    "h_pos = {node:(pos[node][0] - 0.1, pos[node][1]) for node in pos}\n",
    "\n",
    "cases = [[1, 'tab:purple', a_vals, 'Node size by authority score'], \n",
    "         [2, 'tab:cyan', h_vals, 'Node size by hub score']]\n",
    "for i, color, vals, t in cases:\n",
    "    plt.subplot(2, 1, i)\n",
    "    plt.gca().axis('off')\n",
    "    nx.draw_networkx(\n",
    "        subG,\n",
    "        pos,\n",
    "        width=0.5,\n",
    "        with_labels=False,\n",
    "        edgecolors='black',\n",
    "        node_size=vals*1e5,\n",
    "        node_color=color\n",
    "    )\n",
    "    nx.draw_networkx_labels(\n",
    "        subG,\n",
    "        pos=a_pos,\n",
    "        labels=a_labels,\n",
    "        horizontalalignment='left'\n",
    "    )\n",
    "    nx.draw_networkx_labels(\n",
    "        subG,\n",
    "        pos=h_pos,\n",
    "        labels=h_labels,\n",
    "        horizontalalignment='right'\n",
    "    )\n",
    "\n",
    "    plt.xlim(-0.5, 1.5)\n",
    "    plt.title(t)"
   ]
  },
  {
   "cell_type": "code",
   "execution_count": null,
   "metadata": {},
   "outputs": [],
   "source": []
  }
 ],
 "metadata": {
  "kernelspec": {
   "display_name": "Python 3",
   "language": "python",
   "name": "python3"
  },
  "language_info": {
   "codemirror_mode": {
    "name": "ipython",
    "version": 3
   },
   "file_extension": ".py",
   "mimetype": "text/x-python",
   "name": "python",
   "nbconvert_exporter": "python",
   "pygments_lexer": "ipython3",
   "version": "3.7.4"
  }
 },
 "nbformat": 4,
 "nbformat_minor": 4
}

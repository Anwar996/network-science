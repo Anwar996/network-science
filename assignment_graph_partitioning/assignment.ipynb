{
 "cells": [
  {
   "cell_type": "markdown",
   "metadata": {},
   "source": [
    "# Assignment — Graph partitioning"
   ]
  },
  {
   "cell_type": "code",
   "execution_count": null,
   "metadata": {},
   "outputs": [],
   "source": [
    "import matplotlib.pyplot as plt\n",
    "import requests\n",
    "from scipy.cluster.hierarchy import dendrogram, linkage\n",
    "import networkx as nx\n",
    "from scipy.spatial.distance import squareform\n",
    "from zlib import adler32\n",
    "from sklearn.cluster import AgglomerativeClustering\n",
    "from sklearn.cluster import KMeans\n",
    "import seaborn as sns\n",
    "import pandas as pd\n",
    "from sklearn import datasets\n",
    "import numpy as np"
   ]
  },
  {
   "cell_type": "markdown",
   "metadata": {},
   "source": [
    "Let us try to detect communities in Les Miserables graph."
   ]
  },
  {
   "cell_type": "code",
   "execution_count": null,
   "metadata": {},
   "outputs": [],
   "source": [
    "G = nx.Graph(nx.les_miserables_graph().edges)\n",
    "G = nx.convert_node_labels_to_integers(G)\n",
    "pos = nx.kamada_kawai_layout(G)\n",
    "plt.figure(figsize=(8, 8))\n",
    "nx.draw_networkx_nodes(G, pos, node_color='white', edgecolors='black', node_size=100)\n",
    "nx.draw_networkx_edges(G, pos, alpha=0.3)\n",
    "plt.axis('off')\n",
    "plt.show()"
   ]
  },
  {
   "cell_type": "markdown",
   "metadata": {},
   "source": [
    "### Task 1. Girvan Newman algorithm, edge betweennes (2 points)"
   ]
  },
  {
   "cell_type": "markdown",
   "id": "39b64b37-b06a-4862-9701-404c041b4200",
   "metadata": {},
   "source": [
    "Let us apply Girvan Newman algorithm with edge betweenness. The idea is we cut edges with highest betweenness until the graph becomes disconnected. Use `nx.algorithms.community.girvan_newman` to find communities.\n",
    "\n",
    "Write a function `edge_betweenness` that takes a graph and the number of divisions and returns np.array of (integer) labels of nodes in each iteration. The shape of the output is [n, m] where n is a number of iteration and m is a number of nodes."
   ]
  },
  {
   "cell_type": "code",
   "execution_count": null,
   "id": "ac261efb-adb8-411c-911b-5f17f6f354a7",
   "metadata": {
    "deletable": false,
    "nbgrader": {
     "cell_type": "code",
     "checksum": "78ae0c3a1e46a3805215acf726f2bfc0",
     "grade": false,
     "grade_id": "cell-d871f77dcf06fa15",
     "locked": false,
     "schema_version": 3,
     "solution": true,
     "task": false
    }
   },
   "outputs": [],
   "source": [
    "def edge_betweenness(G, n):\n",
    "    # YOUR CODE HERE\n",
    "    raise NotImplementedError()"
   ]
  },
  {
   "cell_type": "code",
   "execution_count": null,
   "id": "15ed10f5-4fde-4f31-8dcf-b161b2fce56f",
   "metadata": {
    "deletable": false,
    "editable": false,
    "nbgrader": {
     "cell_type": "code",
     "checksum": "5d6d6692a0999f2172d4b5d650a984c1",
     "grade": true,
     "grade_id": "cell-8dd9a36b0d20c57d",
     "locked": true,
     "points": 2.0,
     "schema_version": 3,
     "solution": false,
     "task": false
    }
   },
   "outputs": [],
   "source": [
    "labels = edge_betweenness(G, 6)\n",
    "assert labels.shape == (6, 77)\n",
    "assert np.unique(labels[0]).shape == (2,)\n",
    "assert np.unique(labels[0]).shape[0] < np.unique(labels[1]).shape[0] < np.unique(labels[5]).shape[0]\n",
    "assert labels[5][22] == labels[5][23]\n",
    "assert labels[5][31] == labels[5][34]"
   ]
  },
  {
   "cell_type": "markdown",
   "id": "69011f68-21d6-41bb-b1d1-210ccbb5c893",
   "metadata": {},
   "source": [
    "Let us draw Girvan Newman algorithm step-by-step."
   ]
  },
  {
   "cell_type": "code",
   "execution_count": null,
   "id": "de2ecafd-cd39-45f6-bee7-18107924a71a",
   "metadata": {},
   "outputs": [],
   "source": [
    "plt.figure(figsize=(7*2, 7*3))\n",
    "colors = edge_betweenness(G, 6)\n",
    "for i in range(colors.shape[0]):\n",
    "    plt.subplot(3, 2, i+1)\n",
    "    nx.draw_networkx_nodes(\n",
    "        G, \n",
    "        pos,\n",
    "        cmap=plt.cm.rainbow,\n",
    "        node_color=colors[i], \n",
    "        node_size=100, \n",
    "        edgecolors='black'\n",
    "    )\n",
    "    nx.draw_networkx_edges(G, pos, alpha=0.3)\n",
    "    plt.title('Edge betweenness, {} communities'.format(i+2))\n",
    "    plt.axis('off')"
   ]
  },
  {
   "cell_type": "markdown",
   "metadata": {},
   "source": [
    "### Task 2. Modularity  (2 points)"
   ]
  },
  {
   "cell_type": "markdown",
   "metadata": {},
   "source": [
    "One of the best-known methods for community detection is called modularity. \n",
    "\n",
    "$$M = \\frac{1}{2m}\\sum_{ij} \\left( A_{ij} - \\frac{k_ik_j}{2m} \\right) \\delta(c_i, c_j)$$\n",
    "\n",
    "where $m$ is the number of edges and $\\delta(c_i, c_j)$ is Kronecker delta, it is equal 1 if nodes belong to the same community and 0 otherwise. Modularity is based on expected number of edges between nodes in Configuration model\n",
    "\n",
    "\n",
    "$$\\frac{k_ik_j}{2m-1} \\approx \\frac{k_ik_j}{2m}$$\n",
    "\n",
    "<img src='http://networksciencebook.com/images/ch-04/figure-4-15.jpg' width=400>\n",
    "\n",
    "Indeed, $k_i$ stubs can be connected to $k_j$ stubs between nodes $i$ and $j$ and there are $2m - 1$ ways to connect a stub for any other stub that can be approximated by $2m$ in a large network. That is, modularity measures the difference between expected number of edges and actual number of edges between nodes — the large modularity, the better partitioning. Let us implement modularity calculation.\n",
    "\n",
    "`modularity` function takes an adjacency matrix and list of lists of nodes that belong to the same community and returns modularity score."
   ]
  },
  {
   "cell_type": "code",
   "execution_count": null,
   "metadata": {
    "deletable": false,
    "editable": false,
    "nbgrader": {
     "cell_type": "code",
     "checksum": "63ece173186539ff40fdc582d5e693bd",
     "grade": false,
     "grade_id": "cell-cf4dfd6ca481fa61",
     "locked": true,
     "schema_version": 3,
     "solution": false,
     "task": false
    }
   },
   "outputs": [],
   "source": [
    "def modularity(A, communities):\n",
    "    m = A.sum() / 2\n",
    "    res = (A - expected_edges(A, m)) * kronecker(A, communities)\n",
    "    return res.sum() / 2 / m"
   ]
  },
  {
   "cell_type": "markdown",
   "metadata": {},
   "source": [
    "Write a function `expected_edges` that takes an adjacency matrix and number of edges `m` and returns a np.array with expected number of edges."
   ]
  },
  {
   "cell_type": "code",
   "execution_count": null,
   "metadata": {
    "deletable": false,
    "nbgrader": {
     "cell_type": "code",
     "checksum": "2733eb3387e2ded966624088b7ed64c4",
     "grade": false,
     "grade_id": "cell-1aea2384fb374860",
     "locked": false,
     "schema_version": 3,
     "solution": true,
     "task": false
    }
   },
   "outputs": [],
   "source": [
    "def expected_edges(A, m):\n",
    "    # YOUR CODE HERE\n",
    "    raise NotImplementedError()"
   ]
  },
  {
   "cell_type": "code",
   "execution_count": null,
   "metadata": {
    "deletable": false,
    "editable": false,
    "nbgrader": {
     "cell_type": "code",
     "checksum": "27febfcb70039c20634f3a79b00693e3",
     "grade": true,
     "grade_id": "cell-ed2bf38f8dbbf57a",
     "locked": true,
     "points": 0.67,
     "schema_version": 3,
     "solution": false,
     "task": false
    }
   },
   "outputs": [],
   "source": [
    "A = nx.to_numpy_array(G)\n",
    "m = G.number_of_edges()\n",
    "ee = expected_edges(A, m)\n",
    "assert ee.shape == A.shape\n",
    "assert np.all(0 <= ee)\n",
    "assert round(ee[10, 10], 2) == round(G.degree[10] * G.degree[10] / 2 / m, 2)"
   ]
  },
  {
   "cell_type": "markdown",
   "metadata": {},
   "source": [
    "Write a function `kronecked` that takes an adjacency matrix and list of lists of nodes that belong to the same community and returns a np.array with Kronecked delta."
   ]
  },
  {
   "cell_type": "code",
   "execution_count": null,
   "metadata": {
    "deletable": false,
    "nbgrader": {
     "cell_type": "code",
     "checksum": "e41fd91596e92ef39c297288ab6097c7",
     "grade": false,
     "grade_id": "cell-7eacdaeaeba013ce",
     "locked": false,
     "schema_version": 3,
     "solution": true,
     "task": false
    }
   },
   "outputs": [],
   "source": [
    "def kronecker(A, communities):\n",
    "    # YOUR CODE HERE\n",
    "    raise NotImplementedError()"
   ]
  },
  {
   "cell_type": "code",
   "execution_count": null,
   "metadata": {
    "deletable": false,
    "editable": false,
    "nbgrader": {
     "cell_type": "code",
     "checksum": "fd04d1c715de176619fed86fedd18423",
     "grade": true,
     "grade_id": "cell-5d7810bc8586396a",
     "locked": true,
     "points": 0.67,
     "schema_version": 3,
     "solution": false,
     "task": false
    }
   },
   "outputs": [],
   "source": [
    "A = nx.to_numpy_array(G)\n",
    "communities = [np.arange(0, 10), np.arange(10, len(G))]\n",
    "kd = kronecker(A, communities)\n",
    "assert kd.shape == A.shape\n",
    "assert kd[0, 9] == 1 and kd[10, 11] == 1\n",
    "assert kd[0, 10] == 0"
   ]
  },
  {
   "cell_type": "markdown",
   "metadata": {},
   "source": [
    "Write a function `edge_betw_modularity` that takes a graph, number of iterations of Girvan Newman algorithm and returns a np.array with modularity after each iteration."
   ]
  },
  {
   "cell_type": "code",
   "execution_count": null,
   "metadata": {
    "deletable": false,
    "nbgrader": {
     "cell_type": "code",
     "checksum": "17263e09aceb2cdcd822a6ba9d1e8a83",
     "grade": false,
     "grade_id": "cell-9f7fb2b1efbb7ba5",
     "locked": false,
     "schema_version": 3,
     "solution": true,
     "task": false
    }
   },
   "outputs": [],
   "source": [
    "def edge_betw_modularity(G, n):\n",
    "    # YOUR CODE HERE\n",
    "    raise NotImplementedError()"
   ]
  },
  {
   "cell_type": "code",
   "execution_count": null,
   "metadata": {
    "deletable": false,
    "editable": false,
    "nbgrader": {
     "cell_type": "code",
     "checksum": "ddda0c911b5d363ae02272e43749babd",
     "grade": true,
     "grade_id": "cell-8701bf83b9020f57",
     "locked": true,
     "points": 0.6599999999999999,
     "schema_version": 3,
     "solution": false,
     "task": false
    }
   },
   "outputs": [],
   "source": [
    "n_iterations = 20\n",
    "mod_val = edge_betw_modularity(G, n_iterations)\n",
    "assert mod_val.shape == (n_iterations, )\n",
    "assert round(mod_val[0], 4) == 0.0746\n",
    "assert round(mod_val[7], 4) == 0.4519"
   ]
  },
  {
   "cell_type": "markdown",
   "metadata": {},
   "source": [
    "Let us draw dependency between a number of iteration and modularity."
   ]
  },
  {
   "cell_type": "code",
   "execution_count": null,
   "metadata": {},
   "outputs": [],
   "source": [
    "plt.figure(figsize=(6, 4))\n",
    "plt.plot(np.arange(n_iterations)+2, mod_val)\n",
    "best_n = np.argmax(mod_val) + 2\n",
    "label = 'number of communities with max modularity {:.2f}'.format(max(mod_val))\n",
    "plt.plot(\n",
    "    [best_n, best_n], [min(mod_val), max(mod_val)], \n",
    "    linestyle='--', c='tab:red', \n",
    "    label=label\n",
    ")\n",
    "plt.ylabel('Modularity score')\n",
    "plt.xlabel('Number of communities')\n",
    "plt.legend(loc='upper left')\n",
    "plt.xticks(np.arange(n_iterations)+2)\n",
    "plt.ylim((mod_val.min(), 0.6))\n",
    "plt.show()"
   ]
  },
  {
   "cell_type": "markdown",
   "metadata": {},
   "source": [
    "### Task 3. Eigenvalues of graph Laplacian (2 points)"
   ]
  },
  {
   "cell_type": "markdown",
   "id": "29528bf4-d7ea-4c27-a514-e043cddb8a16",
   "metadata": {},
   "source": [
    "There are a few auxiliary methods for graph generation."
   ]
  },
  {
   "cell_type": "code",
   "execution_count": null,
   "id": "2e362faf-8238-4f5a-9abc-2b7bcc173b2a",
   "metadata": {
    "deletable": false,
    "editable": false,
    "nbgrader": {
     "cell_type": "code",
     "checksum": "eb7b8364134cf37ea83a646413ede86b",
     "grade": false,
     "grade_id": "cell-61366d4f5cae4691",
     "locked": true,
     "schema_version": 3,
     "solution": false,
     "task": false
    }
   },
   "outputs": [],
   "source": [
    "def ring_lattice(n, k):\n",
    "    G = nx.Graph()\n",
    "    nodes = list(range(n))\n",
    "    for i in range(1, int(k/2 + 1)):\n",
    "        targets = nodes[i:] + nodes[:i]\n",
    "        G.add_edges_from(zip(nodes, targets))\n",
    "    return G"
   ]
  },
  {
   "cell_type": "code",
   "execution_count": null,
   "id": "8d57057c-f3fb-4d2c-b092-aebe09423f65",
   "metadata": {
    "deletable": false,
    "editable": false,
    "nbgrader": {
     "cell_type": "code",
     "checksum": "4f817361f4028724aeb63ee45720b069",
     "grade": false,
     "grade_id": "cell-1ed7d5679e35118f",
     "locked": true,
     "schema_version": 3,
     "solution": false,
     "task": false
    }
   },
   "outputs": [],
   "source": [
    "def pair_graph(n):\n",
    "    G = nx.disjoint_union(nx.complete_graph(n), nx.complete_graph(n))\n",
    "    G.add_edge(0, n)\n",
    "    return G"
   ]
  },
  {
   "cell_type": "code",
   "execution_count": null,
   "id": "9231f3e8-e20b-4314-870b-d6ba095490a4",
   "metadata": {
    "deletable": false,
    "editable": false,
    "nbgrader": {
     "cell_type": "code",
     "checksum": "9ebc3e27a111b4c5dec8e08be526cb3d",
     "grade": false,
     "grade_id": "cell-c3199879fe237653",
     "locked": true,
     "schema_version": 3,
     "solution": false,
     "task": false
    }
   },
   "outputs": [],
   "source": [
    "def triple_graph(n):\n",
    "    G = nx.disjoint_union_all(\n",
    "        [nx.complete_graph(n), nx.complete_graph(n), nx.complete_graph(n)]\n",
    "    )\n",
    "    G.add_edge(0, n)\n",
    "    G.add_edge(n, n*2)\n",
    "    G.add_edge(n*2, 0)\n",
    "    return G"
   ]
  },
  {
   "cell_type": "markdown",
   "id": "377c59f5-ee89-453e-b5e1-7d5b3f6e230d",
   "metadata": {},
   "source": [
    "Graph Laplacian is\n",
    "\n",
    "$$L = D - A$$\n",
    "\n",
    "where $A$ is an adjacency matrix and $D$ is a diagonal matrix with node degrees. Eigenvalues and eigenvectors of Laplacian can give us information about structure of a graph. Let us see a few simple examples.\n",
    "\n",
    "Write a function `eig_laplacian` that takes a graph and returns a tuple with 2 np.arrays: eigenvectors and eigenvalues of Laplacian. The both are ordered in ascending of eigenvalues. \n",
    "\n",
    "_Hints: any symmetric matrix has only real eigenvalues and eigenvectors. You can use `np.linalg.eigh` to calculate eigenvectors and eigenvalues in a symmetric matrix._"
   ]
  },
  {
   "cell_type": "code",
   "execution_count": null,
   "id": "866b47bf-b554-4aa3-bc77-e05858ccb4c7",
   "metadata": {
    "deletable": false,
    "nbgrader": {
     "cell_type": "code",
     "checksum": "a0c7c52f6045549d2bd274049aaf9804",
     "grade": false,
     "grade_id": "cell-75b0de6ccf68d1cf",
     "locked": false,
     "schema_version": 3,
     "solution": true,
     "task": false
    }
   },
   "outputs": [],
   "source": [
    "def eig_laplacian(G):\n",
    "    # YOUR CODE HERE\n",
    "    raise NotImplementedError()"
   ]
  },
  {
   "cell_type": "code",
   "execution_count": null,
   "id": "f028f23f-d3fe-48ed-85fa-ea73cde144d7",
   "metadata": {
    "deletable": false,
    "editable": false,
    "nbgrader": {
     "cell_type": "code",
     "checksum": "adab8d023d5b8028a11cd0cbe63777ee",
     "grade": true,
     "grade_id": "cell-fd03c70f09c2d656",
     "locked": true,
     "points": 2.0,
     "schema_version": 3,
     "solution": false,
     "task": false
    }
   },
   "outputs": [],
   "source": [
    "emptyG = nx.empty_graph(10)\n",
    "vecs, vals = eig_laplacian(emptyG)\n",
    "assert vecs.sum() == 10\n",
    "assert vals.sum() == 0\n",
    "oneedgeG = nx.empty_graph(10)\n",
    "oneedgeG.add_edge(0, 1)\n",
    "vecs, vals = eig_laplacian(oneedgeG)\n",
    "assert abs(vecs.round(4)[0, -1]) == abs(vecs.round(4)[1, -1]) == 0.7071\n",
    "assert vals[0] < vals[-1]\n",
    "vecs, vals = eig_laplacian(nx.complete_graph(10))\n",
    "assert (vals == vals.real).sum() == vals.shape[0]\n",
    "assert (vecs == vecs.real).sum() == vals.shape[0]**2\n",
    "vecs, vals = eig_laplacian(ring_lattice(10, 2))\n",
    "assert adler32(vals.round(4)[-1]) == 6815825\n",
    "assert adler32(vals.round(4)[-2]) == 393479360"
   ]
  },
  {
   "cell_type": "markdown",
   "id": "777ff739-130a-4b5e-8948-0d4252e3f398",
   "metadata": {},
   "source": [
    "Consider some simple graphs and their Laplacian eigenvalues."
   ]
  },
  {
   "cell_type": "code",
   "execution_count": null,
   "id": "299b2f13-3e79-401e-92ac-3061047079cb",
   "metadata": {},
   "outputs": [],
   "source": [
    "cases = []\n",
    "cases.append([emptyG, 'Empty graph', nx.draw_circular])\n",
    "cases.append([nx.complete_graph(10), 'Complete graph', nx.draw_circular])\n",
    "cases.append([ring_lattice(10, 2), 'Ring lattice', nx.draw_circular])\n",
    "cases.append([oneedgeG, 'Single edge', nx.draw_circular])\n",
    "cases.append([pair_graph(5), 'Pair of complete graphs', nx.draw_kamada_kawai])\n",
    "cases.append([triple_graph(5), 'Triple of complete graphs', nx.draw_kamada_kawai])\n",
    "\n",
    "plt.figure(figsize=(5*2, 5*6))\n",
    "i = 1\n",
    "for iterG, title, designer in cases:\n",
    "    plt.subplot(6, 2, i)\n",
    "    i += 1\n",
    "    designer(iterG, \n",
    "             node_color='tab:cyan', \n",
    "             edgecolors='black', \n",
    "             node_size=100)\n",
    "    plt.title(title)\n",
    "    plt.subplot(6, 2, i)\n",
    "    i += 1\n",
    "    vecs, vals = eig_laplacian(iterG)\n",
    "    plt.scatter(np.arange(1, len(iterG) + 1), vals)\n",
    "    plt.grid()\n",
    "    plt.xticks(np.arange(1, len(iterG) + 1))\n",
    "    plt.title('Ordered Laplacian eigenvalues')"
   ]
  },
  {
   "cell_type": "markdown",
   "id": "a4b40d12-c384-4dcc-908a-426746d5cbb8",
   "metadata": {},
   "source": [
    "We can observe that a number of zero eigenvalues is a number of connected component. $\\lambda_2 = n$ in a complete graph. Also, the largest gap between eigenvalues indicates an optimal number of clusters. For example, the largest gap in a complete graph is between 1 and 2, then an optimal number of clusters is 1. Similarly, 2-3 gap is related to a pair graph, and 3-4 gap is related to a triple graph."
   ]
  },
  {
   "cell_type": "markdown",
   "metadata": {},
   "source": [
    "### Task 4. Spectral clustering (2 points)"
   ]
  },
  {
   "cell_type": "markdown",
   "id": "489f2970-af0b-4a77-a863-53365bea6341",
   "metadata": {},
   "source": [
    "Spectral clustering is a very powerful algorithm for community detection that minimize graph cuts. It is based on Laplacian eigenvectors, in particular a sign of the second smallest eigenvector determines the partition of a graph into two clusters. Consider the following artificial dataset."
   ]
  },
  {
   "cell_type": "code",
   "execution_count": null,
   "id": "137454a4-9426-4f34-94e4-d2024c239460",
   "metadata": {},
   "outputs": [],
   "source": [
    "circles, truth_labels = datasets.make_circles(n_samples=300, factor=0.6, \n",
    "                                              noise=0.05, random_state=0)\n",
    "plt.figure(figsize=(6, 6))\n",
    "plt.scatter(circles[:, 0], circles[:, 1])\n",
    "plt.show()"
   ]
  },
  {
   "cell_type": "markdown",
   "id": "86a5c200-6fa8-4cc7-9204-73652e8f2855",
   "metadata": {},
   "source": [
    "Let us isolate data points in center circle using spectral clustering. Any distance based dataset can be represented as a graph with edges between neighbors.\n",
    "\n",
    "Write a function `custom_graph` that takes a np.array with x-y data points and returns a connected graph. \n",
    "\n",
    "_Hint: try to apply `sklearn.neighbors.kneighbors_graph`._\n",
    "\n",
    "_Remark: you can introduce your own distance_"
   ]
  },
  {
   "cell_type": "code",
   "execution_count": null,
   "id": "fc9202ed-4845-41e7-8521-6c2d0913eded",
   "metadata": {
    "deletable": false,
    "nbgrader": {
     "cell_type": "code",
     "checksum": "49e30600afef1d7ade56b47134b59326",
     "grade": false,
     "grade_id": "cell-d40266c883f9c15b",
     "locked": false,
     "schema_version": 3,
     "solution": true,
     "task": false
    }
   },
   "outputs": [],
   "source": [
    "def custom_graph(data):\n",
    "    # YOUR CODE HERE\n",
    "    raise NotImplementedError()"
   ]
  },
  {
   "cell_type": "code",
   "execution_count": null,
   "id": "8013f2b5-78b5-4409-8968-3ce1cd7f1b1f",
   "metadata": {
    "deletable": false,
    "editable": false,
    "nbgrader": {
     "cell_type": "code",
     "checksum": "7f37b2b8bb3d6c8f6ef9176862e9820e",
     "grade": true,
     "grade_id": "cell-64aedbe28b2b9b7d",
     "locked": true,
     "points": 1.0,
     "schema_version": 3,
     "solution": false,
     "task": false
    }
   },
   "outputs": [],
   "source": [
    "circles, truth_labels = datasets.make_circles(n_samples=300, factor=0.6, \n",
    "                                              noise=0.05, random_state=0)\n",
    "circlesG = custom_graph(circles)\n",
    "assert circlesG.number_of_nodes() == 300\n",
    "assert nx.is_connected(circlesG)"
   ]
  },
  {
   "cell_type": "markdown",
   "id": "9c79e574-6b97-4174-83a0-c80c5d22148c",
   "metadata": {},
   "source": [
    "Let us draw values in second smallest eigenvector of Laplacian."
   ]
  },
  {
   "cell_type": "code",
   "execution_count": null,
   "id": "bb1d457f-d0d8-4478-94db-f652d6c3ab17",
   "metadata": {},
   "outputs": [],
   "source": [
    "vecs, vals = eig_laplacian(circlesG)\n",
    "\n",
    "plt.figure(figsize=(8, 5))\n",
    "plt.scatter(np.arange(300), vecs[:, 1], s=10)\n",
    "plt.title('Second smallest eigenvector')\n",
    "plt.xlabel('Data point')\n",
    "plt.ylabel('Value')\n",
    "plt.grid()\n",
    "plt.show()"
   ]
  },
  {
   "cell_type": "markdown",
   "id": "cfa0ee20-ae9d-46aa-9473-95fc860bf123",
   "metadata": {},
   "source": [
    "Next, write a function `spectral_two_clusters` that takes np.array with ordered eigenvectors and returns np.array with labels of nodes."
   ]
  },
  {
   "cell_type": "code",
   "execution_count": null,
   "id": "b3a2f6ce-a1dc-4f6c-9649-a868bde781fc",
   "metadata": {
    "deletable": false,
    "nbgrader": {
     "cell_type": "code",
     "checksum": "d0bcce8de4c76511ba5efaf656dd6533",
     "grade": false,
     "grade_id": "cell-ca439ffb4eb0df3c",
     "locked": false,
     "schema_version": 3,
     "solution": true,
     "task": false
    }
   },
   "outputs": [],
   "source": [
    "def spectral_two_clusters(vecs):\n",
    "    # YOUR CODE HERE\n",
    "    raise NotImplementedError()"
   ]
  },
  {
   "cell_type": "code",
   "execution_count": null,
   "id": "6e2d970b-9fd2-41af-8905-805e0243b1c1",
   "metadata": {
    "deletable": false,
    "editable": false,
    "nbgrader": {
     "cell_type": "code",
     "checksum": "493be7bafdc365032981c0fcfc65716a",
     "grade": true,
     "grade_id": "cell-6b01f513f5380c76",
     "locked": true,
     "points": 1.0,
     "schema_version": 3,
     "solution": false,
     "task": false
    }
   },
   "outputs": [],
   "source": [
    "circles, truth_labels = datasets.make_circles(n_samples=300, factor=0.6, \n",
    "                                              noise=0.05, random_state=0)\n",
    "circlesG = custom_graph(circles)\n",
    "vecs, vals = eig_laplacian(circlesG)\n",
    "labels = spectral_two_clusters(vecs)\n",
    "\n",
    "assert abs(np.corrcoef(truth_labels, labels)[0, 1]) > 0.95\n",
    "\n",
    "plt.figure(figsize=(6, 6))\n",
    "plt.scatter(circles[:, 0], circles[:, 1], c=labels)\n",
    "plt.title('Correlation: {:.2f}'.format(abs(np.corrcoef(truth_labels, labels)[0, 1])))\n",
    "plt.show()"
   ]
  },
  {
   "cell_type": "markdown",
   "id": "548681ca-e762-43ca-9dab-5ef4c2e52525",
   "metadata": {},
   "source": [
    "_Remark: there are two directions of graph construction: selection pairs of nodes to connect to each other, and choosing the weights of created edges. Set `factor=0.7` in `datasets.make_circles` and test yourself — try to achive 0.9 correlation. Combine `sklearn.neighbors.kneighbors_graph` with `scipy.spatial.distance_matrix` or `sklearn.metrics.pairwise.rbf_kernel`. Details are [here](http://www2.imm.dtu.dk/projects/manifold/Papers/Laplacian.pdf)._"
   ]
  },
  {
   "cell_type": "markdown",
   "metadata": {},
   "source": [
    "### Task 5. Laplacian Eigenmaps (2 points)"
   ]
  },
  {
   "cell_type": "markdown",
   "metadata": {},
   "source": [
    "In the previous task, we saw how to split a graph into two parts. Let us consider a way to get more parts in the following graph."
   ]
  },
  {
   "cell_type": "code",
   "execution_count": null,
   "metadata": {},
   "outputs": [],
   "source": [
    "quadG = nx.disjoint_union_all([nx.complete_graph(5), \n",
    "                               nx.complete_graph(5),\n",
    "                               nx.complete_graph(5),\n",
    "                               nx.complete_graph(5)])\n",
    "quadG.add_edge(0, 5)\n",
    "quadG.add_edge(6, 10)\n",
    "quadG.add_edge(11, 16)\n",
    "quadG.add_edge(17, 1)\n",
    "\n",
    "plt.figure(figsize=(5, 5))\n",
    "nx.draw_kamada_kawai(\n",
    "    quadG, \n",
    "    node_color='white', \n",
    "    edgecolors='black', \n",
    "    node_size=100)"
   ]
  },
  {
   "cell_type": "markdown",
   "metadata": {},
   "source": [
    "Further splitting can be performed by different approaches. For example, we can repeat the clustering procedure on the both subgraphs separetely and choose a minimal graph cut and then repeat it again. Another way is to get Laplacian Eigenmaps and then apply KMeans. Let us consider how it works.\n",
    "\n",
    "1. Compute _normalized_ Laplacian\n",
    "$$L = D^{-1/2}(D - A)D^{-1/2}$$\n",
    "2. Find the $K$ smallest eigenvectors (excluding the smallest)\n",
    "3. Form the Laplacian eigenmaps — a matrix where columns are eigenvectors, rows are node embeddings\n",
    "4. Put eigenmaps into KMeans\n",
    "5. Label nodes by fitted KMeans"
   ]
  },
  {
   "cell_type": "markdown",
   "metadata": {},
   "source": [
    "Write a function `norm_laplacian` that takes an adjacency matrix `A` and returns a normalized Laplacian."
   ]
  },
  {
   "cell_type": "code",
   "execution_count": null,
   "metadata": {
    "deletable": false,
    "nbgrader": {
     "cell_type": "code",
     "checksum": "8860c72d586b216b03d2028588fef600",
     "grade": false,
     "grade_id": "cell-835877a10376c87b",
     "locked": false,
     "schema_version": 3,
     "solution": true,
     "task": false
    }
   },
   "outputs": [],
   "source": [
    "def norm_laplacian(A):\n",
    "    # YOUR CODE HERE\n",
    "    raise NotImplementedError()"
   ]
  },
  {
   "cell_type": "code",
   "execution_count": null,
   "metadata": {
    "deletable": false,
    "editable": false,
    "nbgrader": {
     "cell_type": "code",
     "checksum": "d1c91a024e89e065388f8e8b2f5bb0eb",
     "grade": true,
     "grade_id": "cell-0cf12928f9a5a348",
     "locked": true,
     "points": 0.67,
     "schema_version": 3,
     "solution": false,
     "task": false
    }
   },
   "outputs": [],
   "source": [
    "A = nx.to_numpy_array(quadG)\n",
    "L = norm_laplacian(A)\n",
    "assert L.shape == (20, 20)\n",
    "assert np.diagonal(L).sum() == 20\n",
    "assert round(L[:, 2].sum(), 4) == 0.0528"
   ]
  },
  {
   "cell_type": "markdown",
   "metadata": {},
   "source": [
    "Write a function `spectral_embedding` that takes np.array with normalized Laplacian and returns np.array with Laplacian Eigenmaps. `n_components` is a number of vectors of the output."
   ]
  },
  {
   "cell_type": "code",
   "execution_count": null,
   "metadata": {
    "deletable": false,
    "nbgrader": {
     "cell_type": "code",
     "checksum": "0dbf85236ad6630f0982db80b54a801b",
     "grade": false,
     "grade_id": "cell-3ff904d602d33bc1",
     "locked": false,
     "schema_version": 3,
     "solution": true,
     "task": false
    }
   },
   "outputs": [],
   "source": [
    "def spectral_embedding(L, n_components):\n",
    "    # YOUR CODE HERE\n",
    "    raise NotImplementedError()"
   ]
  },
  {
   "cell_type": "code",
   "execution_count": null,
   "metadata": {
    "deletable": false,
    "editable": false,
    "nbgrader": {
     "cell_type": "code",
     "checksum": "0d43e502627948b3b658472353900147",
     "grade": true,
     "grade_id": "cell-798cee725cdd54c1",
     "locked": true,
     "points": 0.67,
     "schema_version": 3,
     "solution": false,
     "task": false
    }
   },
   "outputs": [],
   "source": [
    "embedding = spectral_embedding(L, 3)\n",
    "assert embedding.shape == (20, 3)\n",
    "assert embedding[:, 0].max() > 0\n",
    "assert embedding[:, 0].min() < 0\n",
    "assert embedding[:, 1].max() > 0\n",
    "assert embedding[:, 1].min() < 0\n",
    "assert (embedding[:, 0] > 0).sum() == 10\n",
    "assert (embedding[:, 1] > 0).sum() == 10\n",
    "assert (embedding[:, 2] > 0).sum() == 10"
   ]
  },
  {
   "cell_type": "markdown",
   "metadata": {},
   "source": [
    "Let us look at a pairplot of the spectral embedding."
   ]
  },
  {
   "cell_type": "code",
   "execution_count": null,
   "metadata": {
    "deletable": false,
    "editable": false,
    "nbgrader": {
     "cell_type": "code",
     "checksum": "d7b3c385ff4dec38c12a3e970a3c5f54",
     "grade": false,
     "grade_id": "cell-682a760a2b70452c",
     "locked": true,
     "schema_version": 3,
     "solution": false,
     "task": false
    }
   },
   "outputs": [],
   "source": [
    "def spectral_clustering(G, n_clusters, n_components):\n",
    "    A = nx.to_numpy_array(G)\n",
    "    L = norm_laplacian(A)\n",
    "    embedding = spectral_embedding(L, n_components)\n",
    "    kmeans = KMeans(n_clusters=n_clusters)\n",
    "    kmeans.fit(embedding)\n",
    "    return kmeans.labels_"
   ]
  },
  {
   "cell_type": "code",
   "execution_count": null,
   "metadata": {
    "deletable": false,
    "editable": false,
    "nbgrader": {
     "cell_type": "code",
     "checksum": "5626c71e2ec290b966a20d188efcd25e",
     "grade": true,
     "grade_id": "cell-0a5e4e1e0ff1e71b",
     "locked": true,
     "points": 0.6599999999999999,
     "schema_version": 3,
     "solution": false,
     "task": false
    }
   },
   "outputs": [],
   "source": [
    "embedding = spectral_embedding(L, 3)\n",
    "labels = spectral_clustering(quadG, 4, 3)\n",
    "assert np.all(labels[:5] == labels[0])\n",
    "assert np.all(labels[5:10] == labels[5])\n",
    "assert np.all(labels[10:15] == labels[10])\n",
    "assert np.all(labels[15:20] == labels[15])"
   ]
  },
  {
   "cell_type": "code",
   "execution_count": null,
   "metadata": {},
   "outputs": [],
   "source": [
    "embedding = spectral_embedding(L, 3)\n",
    "labels = spectral_clustering(quadG, 4, 3)\n",
    "pair_data = pd.DataFrame(\n",
    "    np.hstack([embedding, labels[:, None]]), \n",
    "    columns=['x2', 'x3', 'x4', 'label'])\n",
    "pair_data.label = pair_data.label.astype('str')\n",
    "p = sns.pairplot(\n",
    "    pair_data,\n",
    "    hue='label',\n",
    "    diag_kind=None\n",
    ")\n",
    "p._legend.remove()\n",
    "plt.show()"
   ]
  },
  {
   "cell_type": "markdown",
   "metadata": {},
   "source": [
    "We can see four distinct clusters in the plots, that is why we use KMeans, but other clustering algorithms can also be applied here."
   ]
  },
  {
   "cell_type": "code",
   "execution_count": null,
   "metadata": {},
   "outputs": [],
   "source": [
    "plt.figure(figsize=(5, 5))\n",
    "nx.draw_kamada_kawai(\n",
    "    quadG, \n",
    "    cmap=plt.cm.rainbow,\n",
    "    node_color=labels, \n",
    "    edgecolors='black', \n",
    "    node_size=100)"
   ]
  },
  {
   "cell_type": "markdown",
   "metadata": {},
   "source": [
    "Finally, let us see how spectral clustering works on the Les Miserables graph."
   ]
  },
  {
   "cell_type": "code",
   "execution_count": null,
   "metadata": {},
   "outputs": [],
   "source": [
    "plt.figure(figsize=(8, 8))\n",
    "nodes = nx.draw_networkx_nodes(\n",
    "    G, \n",
    "    pos,\n",
    "    cmap=plt.cm.rainbow,\n",
    "    node_color=spectral_clustering(G, 6, 5), \n",
    "    node_size=100, \n",
    "    linewidths=1, \n",
    "    edgecolors='black'\n",
    ")\n",
    "nx.draw_networkx_edges(\n",
    "    G,\n",
    "    pos,\n",
    "    alpha=0.2,\n",
    "    edge_color='black'\n",
    ")\n",
    "plt.axis('off')\n",
    "plt.legend(*nodes.legend_elements())\n",
    "plt.show()"
   ]
  },
  {
   "cell_type": "code",
   "execution_count": null,
   "metadata": {},
   "outputs": [],
   "source": []
  }
 ],
 "metadata": {
  "kernelspec": {
   "display_name": "Python 3",
   "language": "python",
   "name": "python3"
  },
  "language_info": {
   "codemirror_mode": {
    "name": "ipython",
    "version": 3
   },
   "file_extension": ".py",
   "mimetype": "text/x-python",
   "name": "python",
   "nbconvert_exporter": "python",
   "pygments_lexer": "ipython3",
   "version": "3.7.4"
  }
 },
 "nbformat": 4,
 "nbformat_minor": 4
}

{
 "cells": [
  {
   "cell_type": "markdown",
   "metadata": {},
   "source": [
    "# Assignment — Community Detection"
   ]
  },
  {
   "cell_type": "code",
   "execution_count": null,
   "metadata": {},
   "outputs": [],
   "source": [
    "from scipy.spatial.distance import squareform\n",
    "from sklearn.cluster import KMeans\n",
    "import pandas as pd\n",
    "from scipy.cluster.hierarchy import dendrogram, linkage\n",
    "from IPython.display import clear_output\n",
    "import matplotlib.pyplot as plt\n",
    "import numpy as np\n",
    "from zlib import adler32\n",
    "from sklearn import datasets\n",
    "from sklearn.cluster import AgglomerativeClustering\n",
    "import requests\n",
    "import seaborn as sns\n",
    "import networkx as nx"
   ]
  },
  {
   "cell_type": "markdown",
   "metadata": {},
   "source": [
    "Let us try to detect communities in Les Miserables graph."
   ]
  },
  {
   "cell_type": "code",
   "execution_count": null,
   "metadata": {},
   "outputs": [],
   "source": [
    "lesG = nx.Graph(nx.les_miserables_graph().edges)\n",
    "lesG = nx.convert_node_labels_to_integers(lesG)\n",
    "lespos = nx.kamada_kawai_layout(lesG)\n",
    "plt.figure(figsize=(8, 8))\n",
    "nx.draw_networkx_nodes(lesG, lespos, node_color='white', edgecolors='black', node_size=100)\n",
    "nx.draw_networkx_edges(lesG, lespos, alpha=0.3)\n",
    "plt.axis('off')\n",
    "plt.show()"
   ]
  },
  {
   "cell_type": "markdown",
   "metadata": {},
   "source": [
    "### Task 1. Agglomerative clustering (2 points)"
   ]
  },
  {
   "cell_type": "markdown",
   "id": "81e25dfd-197f-4ba9-b3dc-4b761dca629c",
   "metadata": {},
   "source": [
    "Agglomerative clustering is an iterative procedure that unions similar clusters using a similarity matrix, but since we will run `sklearn.cluster.AgglomerativeClustering`, we need to pass a _distance_ matrix. So, first we need to choose a similarity measure and then convert it into a distance. Let us do it via SimRank measure that is defined as follows: _two objects are considered to be similar if they are referenced by similar objects_. Since SimRank takes values on the interval [0, 1], let us define a distance as\n",
    "\n",
    "$$\\text{Distance}= 1 - \\text{SimRank}$$\n",
    "\n",
    "Write a function `simrank_distance` that takes a graph and returns a distance matrix based on SimRank. Use `nx.simrank_similarity`. The distance matrix should be _absolutely_ symmetric."
   ]
  },
  {
   "cell_type": "code",
   "execution_count": null,
   "id": "7141a3e3-30da-40aa-8a5c-e1433918e2c6",
   "metadata": {
    "deletable": false,
    "nbgrader": {
     "cell_type": "code",
     "checksum": "9a7a5a98d72e0f7fe6dd9abfb69ca828",
     "grade": false,
     "grade_id": "cell-3e562ed2f306eb66",
     "locked": false,
     "schema_version": 3,
     "solution": true,
     "task": false
    }
   },
   "outputs": [],
   "source": [
    "def simrank_distance(G):\n",
    "    # YOUR CODE HERE\n",
    "    raise NotImplementedError()"
   ]
  },
  {
   "cell_type": "code",
   "execution_count": null,
   "id": "001fc5fc-a970-41a5-92e0-c4df925b5d27",
   "metadata": {
    "deletable": false,
    "editable": false,
    "nbgrader": {
     "cell_type": "code",
     "checksum": "23a09666273882abfa5c012ee2fc81e8",
     "grade": true,
     "grade_id": "cell-48d3f5c5f233d84c",
     "locked": true,
     "points": 1.0,
     "schema_version": 3,
     "solution": false,
     "task": false
    }
   },
   "outputs": [],
   "source": [
    "distance = simrank_distance(lesG)\n",
    "assert distance.shape == (77, 77)\n",
    "assert np.diagonal(distance).sum() == 0\n",
    "assert np.allclose(distance, distance.T, rtol=0, atol=0)\n",
    "assert distance[52, 68] <= distance[1, 19]\n",
    "assert distance[45, 29] <= distance[38, 46]"
   ]
  },
  {
   "cell_type": "markdown",
   "id": "6fd85115-1da7-40c1-a5a9-3823eef65d1b",
   "metadata": {},
   "source": [
    "Then let us cluster nodes using `scipy.cluster.hierarchy.linkage`. The method takes distancies and returns a linkage matrix `Z` where every i-th row consists of\n",
    "* `Z[i, 0]` and `Z[i, 1]` are indexes of combined clusters\n",
    "* `Z[i, 2]` is the distance between combined clusters\n",
    "* `Z[i, 3]` is the number of observations in combined clusters\n",
    "\n",
    "Cluster with an index `n+i` is described in a i-th row of the matrix `Z`. Clusters with indexes less than `n+1` are initial nodes. The method `scipy.cluster.hierarchy.dendrogram` uses the matrix `Z` to plot a dendrogram. Let us look at a dendrogram of Les Miserables graph."
   ]
  },
  {
   "cell_type": "code",
   "execution_count": null,
   "id": "d531f1c7-e76f-4885-bceb-ea167305da76",
   "metadata": {},
   "outputs": [],
   "source": [
    "plt.figure(figsize=(16, 6))\n",
    "linked = linkage(squareform(distance), 'complete')\n",
    "dendrogram(linked, labels=list(lesG.nodes), \n",
    "           leaf_font_size=12)\n",
    "plt.plot([0, 800], [0.89, 0.89], linestyle='--', c='tab:red')\n",
    "plt.show()"
   ]
  },
  {
   "cell_type": "markdown",
   "id": "2780de88-5529-406e-b594-9b578d7a3e4b",
   "metadata": {},
   "source": [
    "Then we need to select a horizontal line that gives us a partitioning of the graph. There are two approaches: select the number of clusters, and select the maximal distance between clusters. For example, if we select a horicontal line with maximal distance 0.89 (a red line on the plot) then the number of clusters will be 4.\n",
    "\n",
    "Write a function `agglomerative_clustering` that takes a distance matrix, maximal distance between clusters and returns an np.array with labels of clusters. Use `sklearn.cluster.AgglomerativeClustering` with complete linkage."
   ]
  },
  {
   "cell_type": "code",
   "execution_count": null,
   "id": "5bcb5370-4945-49b3-b7b1-d4b1efb6d857",
   "metadata": {
    "deletable": false,
    "nbgrader": {
     "cell_type": "code",
     "checksum": "73dbc85d495a7b32523d7cc53961a725",
     "grade": false,
     "grade_id": "cell-0e16f6f2d6e0fbbf",
     "locked": false,
     "schema_version": 3,
     "solution": true,
     "task": false
    }
   },
   "outputs": [],
   "source": [
    "def agglomerative_clustering(distance, max_distance):\n",
    "    # YOUR CODE HERE\n",
    "    raise NotImplementedError()"
   ]
  },
  {
   "cell_type": "code",
   "execution_count": null,
   "id": "d311a442-b598-4629-a60c-4c7fa8a1ff61",
   "metadata": {
    "deletable": false,
    "editable": false,
    "nbgrader": {
     "cell_type": "code",
     "checksum": "07898364a32aebc77837ee75f0f1de8e",
     "grade": true,
     "grade_id": "cell-a35a60118c1e0e83",
     "locked": true,
     "points": 1.0,
     "schema_version": 3,
     "solution": false,
     "task": false
    }
   },
   "outputs": [],
   "source": [
    "assert len(set(agglomerative_clustering(distance, 0.8))) == 17\n",
    "assert len(set(agglomerative_clustering(distance, 0.89))) == 4"
   ]
  },
  {
   "cell_type": "markdown",
   "id": "778c8715-82d6-420d-aa7a-abca8b2a085e",
   "metadata": {},
   "source": [
    "On the graph with maximal distance 0.87"
   ]
  },
  {
   "cell_type": "code",
   "execution_count": null,
   "id": "b64ba51f-477a-4aee-8e43-276d39fef674",
   "metadata": {},
   "outputs": [],
   "source": [
    "labels = agglomerative_clustering(distance, 0.87)\n",
    "plt.figure(figsize=(8, 8))\n",
    "nx.draw_networkx_nodes(\n",
    "    lesG, \n",
    "    lespos,\n",
    "    cmap=plt.cm.rainbow,\n",
    "    node_color=labels, \n",
    "    node_size=100, \n",
    "    linewidths=1, \n",
    "    edgecolors='black'\n",
    ")\n",
    "nx.draw_networkx_edges(\n",
    "    lesG,\n",
    "    lespos,\n",
    "    alpha=0.2,\n",
    "    edge_color='black'\n",
    ")\n",
    "plt.axis('off')\n",
    "plt.show()"
   ]
  },
  {
   "cell_type": "markdown",
   "metadata": {},
   "source": [
    "### Task 2. Louvain method (2 points)"
   ]
  },
  {
   "cell_type": "markdown",
   "metadata": {},
   "source": [
    "Louvain method is one of the mostcited works in the community detection literature. It is a heuristic method based on modularity optimization for extracting the community structure of large networks. Let us consider this method on a ring of cliques."
   ]
  },
  {
   "cell_type": "code",
   "execution_count": null,
   "metadata": {
    "deletable": false,
    "editable": false,
    "nbgrader": {
     "cell_type": "code",
     "checksum": "cac0ba09f543db93cd3f0d7a2c36ec7f",
     "grade": false,
     "grade_id": "cell-5de8f1ada2d8a140",
     "locked": true,
     "schema_version": 3,
     "solution": false,
     "task": false
    }
   },
   "outputs": [],
   "source": [
    "def ring_of_cliques(csize, n):\n",
    "    cliques = []\n",
    "    for _ in range(n):\n",
    "        cliques.append(nx.complete_graph(csize))\n",
    "    G = nx.disjoint_union_all(cliques)\n",
    "    for i in range(n):\n",
    "        node_i = i * csize\n",
    "        node_j = ((i + 1) * csize + 1) % (csize * n)\n",
    "        G.add_edge(node_i, node_j)\n",
    "    return G"
   ]
  },
  {
   "cell_type": "code",
   "execution_count": null,
   "metadata": {},
   "outputs": [],
   "source": [
    "ringG = ring_of_cliques(csize=5, n=30)\n",
    "\n",
    "plt.figure(figsize=(7, 7))\n",
    "pos = nx.kamada_kawai_layout(ringG)\n",
    "nx.draw_networkx_nodes(ringG, pos, node_color='white', \n",
    "                       edgecolors='black', node_size=50)\n",
    "nx.draw_networkx_edges(ringG, pos, alpha=0.5)\n",
    "plt.axis('off')\n",
    "plt.show()"
   ]
  },
  {
   "cell_type": "markdown",
   "metadata": {},
   "source": [
    "Let us compute expected number of edges for modularity calculation\n",
    "$$e_{ij} = \\frac{k_ik_j}{2m}$$\n",
    "where $k_i$ is a degree of the node i and $m$ is the number of edges in a graph.\n",
    "\n",
    "Write a function `expected_edges` that takes an adjacency matrix and number of edges `m` and returns a np.array with expected number of edges."
   ]
  },
  {
   "cell_type": "code",
   "execution_count": null,
   "metadata": {
    "deletable": false,
    "nbgrader": {
     "cell_type": "code",
     "checksum": "34e62e5f387087a027fa2e9edee44521",
     "grade": false,
     "grade_id": "cell-018561fe933d8150",
     "locked": false,
     "schema_version": 3,
     "solution": true,
     "task": false
    }
   },
   "outputs": [],
   "source": [
    "def expected_edges(A, m):\n",
    "    # YOUR CODE HERE\n",
    "    raise NotImplementedError()"
   ]
  },
  {
   "cell_type": "code",
   "execution_count": null,
   "metadata": {
    "deletable": false,
    "editable": false,
    "nbgrader": {
     "cell_type": "code",
     "checksum": "7df32436231a66138d9a9dbeb14fd047",
     "grade": true,
     "grade_id": "cell-8368dcbd59198e4e",
     "locked": true,
     "points": 0.67,
     "schema_version": 3,
     "solution": false,
     "task": false
    }
   },
   "outputs": [],
   "source": [
    "A = nx.to_numpy_array(ringG)\n",
    "m = ringG.number_of_edges()\n",
    "ee = expected_edges(A, m)\n",
    "assert ee.shape == A.shape\n",
    "assert np.all(0 <= ee)\n",
    "assert round(ee[10, 10], 2) == round(ringG.degree[10] * ringG.degree[10] / 2 / m, 2)"
   ]
  },
  {
   "cell_type": "markdown",
   "metadata": {},
   "source": [
    "Modularity helps to select a community that a node should belong to. Note that calculating the modularity costs $O(n^2)$, instead we can calculate *modularity gain* for $O(n)$. Consider community $c_\\text{old}$ with a node $i$ and a community $c_\\text{new}$ without a node $i$. The modularity gain is the change of modularity if we move a node $i$ from community $c_\\text{old}$ into community $c_\\text{new}$\n",
    "\n",
    "$$\\Delta M_i = \\frac{1}{m}\\left[ \\sum_{j\\in c_\\text{new}} \\left( A_{ij} - e_{ij} \\right) - \\sum_{j\\in c_\\text{old} \\setminus \\{i\\}} \\left( A_{ij} - e_{ij} \\right) \\right] $$\n",
    "\n",
    "Write a function `modularity_gain` that takes an adjacency matrix `A`, expected edges `ee`, a moving node `mnode`, initial community `old_comm`, new community `new_comm` and number of edges `m`. It returns modularity gain. For simplicity, assume initial community does not contain a moving node."
   ]
  },
  {
   "cell_type": "code",
   "execution_count": null,
   "metadata": {
    "deletable": false,
    "nbgrader": {
     "cell_type": "code",
     "checksum": "af8b35c028a7500626424d05268fb577",
     "grade": false,
     "grade_id": "cell-df5467b9e50c9509",
     "locked": false,
     "schema_version": 3,
     "solution": true,
     "task": false
    }
   },
   "outputs": [],
   "source": [
    "def modularity_gain(A, ee, mnode, old_comm, new_comm, m):\n",
    "    # YOUR CODE HERE\n",
    "    raise NotImplementedError()"
   ]
  },
  {
   "cell_type": "code",
   "execution_count": null,
   "metadata": {
    "deletable": false,
    "editable": false,
    "nbgrader": {
     "cell_type": "code",
     "checksum": "27747840147ece97d2500303bc7f853a",
     "grade": true,
     "grade_id": "cell-ecc43252e23df71e",
     "locked": true,
     "points": 0.67,
     "schema_version": 3,
     "solution": false,
     "task": false
    }
   },
   "outputs": [],
   "source": [
    "G = nx.complete_graph(6)\n",
    "m1 = nx.algorithms.community.modularity(G, [[0, 1, 2], [3, 4, 5]])\n",
    "m2 = nx.algorithms.community.modularity(G, [[0, 1], [2, 3, 4, 5]])\n",
    "nx_gain = m2 - m1\n",
    "nx_mod = nx.algorithms.community.modularity\n",
    "del nx.algorithms.community.modularity\n",
    "try:\n",
    "    A = nx.to_numpy_array(G)\n",
    "    m = G.number_of_edges()\n",
    "    ee = expected_edges(A, m)\n",
    "    gain = modularity_gain(A, ee, 2, [0, 1], [3, 4, 5], m)\n",
    "except:\n",
    "    raise AssertionError('networkx modularity usage')\n",
    "finally:\n",
    "    nx.algorithms.community.modularity = nx_mod\n",
    "    del nx_mod\n",
    "assert np.isclose(nx_gain, gain)"
   ]
  },
  {
   "cell_type": "markdown",
   "metadata": {},
   "source": [
    "Louvain method\n",
    "\n",
    "Phase 1: community unfolding\n",
    "1. Put each node in its own community\n",
    "2. For every node, calculate modularity gain and move it to the community with maximal modularity gain\n",
    "3. Repeat until modularity stops increasing\n",
    "\n",
    "Phase 2: network aggregation\n",
    "1. Merge communities into ”super nodes”\n",
    "2. Convert edges inside community into self loop, edges between communities into parallel edges\n",
    "\n",
    "Repeat phases 1, 2 until modularity stops increasing."
   ]
  },
  {
   "cell_type": "code",
   "execution_count": null,
   "metadata": {
    "deletable": false,
    "editable": false,
    "nbgrader": {
     "cell_type": "code",
     "checksum": "ef3a1efd628149a281eeb9010f3b8c05",
     "grade": false,
     "grade_id": "cell-21599c44baefbf81",
     "locked": true,
     "schema_version": 3,
     "solution": false,
     "task": false
    }
   },
   "outputs": [],
   "source": [
    "def louvain_method(G):\n",
    "    \n",
    "    # Phase 1: community unfolding\n",
    "    communities = unfolded_communities(G)\n",
    "\n",
    "    # Create labels\n",
    "    labels = np.zeros(len(G))\n",
    "    for i, c in enumerate(communities):\n",
    "        labels[c] = i\n",
    "    \n",
    "    # Phase 2: network aggregation\n",
    "    nextG = nx.empty_graph(len(communities), nx.MultiGraph)\n",
    "    for e in G.edges:\n",
    "        nextG.add_edge(labels[int(e[0])], labels[int(e[1])])\n",
    "       \n",
    "    return communities, labels, nextG"
   ]
  },
  {
   "cell_type": "markdown",
   "metadata": {},
   "source": [
    "Write a function `unfolded_communities` that takes a graph, performs Phase 1 and returns list of communities with nodes. For example, if there are two communitites: the first is [1,2] and the second is [3,4,5] then the output will be [[1,2],[3,4,5]]."
   ]
  },
  {
   "cell_type": "code",
   "execution_count": null,
   "metadata": {
    "deletable": false,
    "nbgrader": {
     "cell_type": "code",
     "checksum": "0182d85c1ad39019c4719a6b4a59bb07",
     "grade": false,
     "grade_id": "cell-fa81e37b363ca9d3",
     "locked": false,
     "schema_version": 3,
     "solution": true,
     "task": false
    }
   },
   "outputs": [],
   "source": [
    "def unfolded_communities(G):\n",
    "    # Proposed template:\n",
    "    A = nx.to_numpy_array(G)\n",
    "    m = A.sum() / 2\n",
    "    ee = expected_edges(A, m)\n",
    "    communities = [[n] for n in G.nodes] # initial partition\n",
    "    max_modularity_gain = 1\n",
    "    while max_modularity_gain > 0:\n",
    "        for node in G.nodes:\n",
    "            '''\n",
    "            1) Remove the node from the initial community.\n",
    "            2) Iterate all neighboring communities and put a node \n",
    "               in the community with maximal modularity gain. If \n",
    "               there is no modularity gain, return the node into \n",
    "               the initial community.\n",
    "            '''\n",
    "            # YOUR CODE HERE\n",
    "            raise NotImplementedError()\n",
    "    return [c for c in communities if len(c)]"
   ]
  },
  {
   "cell_type": "code",
   "execution_count": null,
   "metadata": {
    "deletable": false,
    "editable": false,
    "nbgrader": {
     "cell_type": "code",
     "checksum": "e4e06de26cb016076b8d2abff92df3bf",
     "grade": true,
     "grade_id": "cell-fb6cb3a4447ea08c",
     "locked": true,
     "points": 0.6599999999999999,
     "schema_version": 3,
     "solution": false,
     "task": false
    }
   },
   "outputs": [],
   "source": [
    "ringG = ring_of_cliques(csize=5, n=30)\n",
    "iterG = ringG.copy()\n",
    "communities, labels, iterG = louvain_method(iterG)\n",
    "assert len(set(labels)) == 30\n",
    "assert len(set(labels[0:5])) == 1\n",
    "assert len(set(labels[5:15])) == 2\n",
    "assert iterG.number_of_nodes() == 30\n",
    "for _ in range(2):\n",
    "    communities, labels, iterG = louvain_method(iterG)\n",
    "assert round(nx.algorithms.community.modularity(iterG, communities), 3) == 0.888"
   ]
  },
  {
   "cell_type": "markdown",
   "metadata": {},
   "source": [
    "Let us see unfolding iterations. For every iteration we draw a graph where node color corresponds to the unfolded community."
   ]
  },
  {
   "cell_type": "code",
   "execution_count": null,
   "metadata": {},
   "outputs": [],
   "source": [
    "ringG = ring_of_cliques(csize=5, n=30)\n",
    "iterG = ringG.copy()\n",
    "plt.figure(figsize=(7, 8*3))\n",
    "for i in range(3):\n",
    "    plt.subplot(3, 1, i+1)\n",
    "    communities, labels, nextG = louvain_method(iterG)\n",
    "    # Shuffle label names for better visualization\n",
    "    palette = np.unique(labels)\n",
    "    key = np.random.permutation(palette)\n",
    "    labels = key[np.digitize(labels, palette, right=True)]\n",
    "    iter_pos = nx.kamada_kawai_layout(iterG)\n",
    "    degree = np.array([d for n, d in iterG.degree])\n",
    "    nodes = nx.draw_networkx_nodes(\n",
    "        iterG,\n",
    "        iter_pos,\n",
    "        cmap=plt.cm.rainbow,\n",
    "        node_color=labels,\n",
    "        edgecolors='black',\n",
    "        node_size=10*degree\n",
    "    )\n",
    "    _iterG = iterG.copy()\n",
    "    _iterG.remove_edges_from(nx.selfloop_edges(iterG))\n",
    "    nx.draw_networkx_edges(_iterG, iter_pos, alpha=0.5)\n",
    "    plt.axis('off')\n",
    "    plt.title(\n",
    "        '{} nodes, {} communities \\nModularity {:.3f}'.format(\n",
    "            len(iterG), len(communities), nx.community.modularity(iterG, communities)))\n",
    "    iterG = nextG"
   ]
  },
  {
   "cell_type": "markdown",
   "metadata": {},
   "source": [
    "Communities in Les Miserables graph"
   ]
  },
  {
   "cell_type": "code",
   "execution_count": null,
   "metadata": {},
   "outputs": [],
   "source": [
    "iterG = lesG.copy()\n",
    "prev_comm, labels, iterG = louvain_method(iterG)\n",
    "for i in range(2):\n",
    "    next_comm, labels, iterG = louvain_method(iterG)\n",
    "    communities = []\n",
    "    for c in next_comm:\n",
    "        temp = []\n",
    "        for node in c:\n",
    "            temp.extend(prev_comm[node])\n",
    "        communities.append(temp)\n",
    "    prev_comm = communities.copy()\n",
    "labels = np.zeros(len(lesG))\n",
    "for i, c in enumerate(communities):\n",
    "    labels[c] = i"
   ]
  },
  {
   "cell_type": "code",
   "execution_count": null,
   "metadata": {},
   "outputs": [],
   "source": [
    "plt.figure(figsize=(8, 8))\n",
    "nx.draw_networkx_nodes(\n",
    "    lesG, \n",
    "    lespos,\n",
    "    cmap=plt.cm.rainbow,\n",
    "    node_color=labels, \n",
    "    node_size=100, \n",
    "    edgecolors='black'\n",
    ")\n",
    "nx.draw_networkx_edges(lesG, lespos, alpha=0.3)\n",
    "plt.title(\n",
    "    '{} communities\\nModularity {:.3f}'.format(\n",
    "        len(communities), \n",
    "        nx.community.modularity(lesG, communities)\n",
    "    )\n",
    ")\n",
    "plt.axis('off');"
   ]
  },
  {
   "cell_type": "markdown",
   "metadata": {},
   "source": [
    "### Task 3. Label propogation  (3 points)"
   ]
  },
  {
   "cell_type": "markdown",
   "metadata": {},
   "source": [
    "Among all the community detection techniques, label propagation is neither the most accurate nor the most robust method. It is, however, without doubt one of the simplest and fastest clustering methods. The label propagation method is based on the simple idea: every node is initialized with a unique label and at every step each node adopts the label that most of its neighbors currently have.\n",
    "\n",
    "Write a function `update_labels` that takes a graph, np.array with labels in order `graph.nodes` and returns new labels. Label of the node is the random label occurring with the highest frequency among neighbors. At every iteration of label propagation, all nodes update their labels simultaneously (synchronous propagation)."
   ]
  },
  {
   "cell_type": "code",
   "execution_count": null,
   "metadata": {
    "deletable": false,
    "nbgrader": {
     "cell_type": "code",
     "checksum": "7b32034c41beb68fd52a01069052ce81",
     "grade": false,
     "grade_id": "cell-c5b24d3f2a43f307",
     "locked": false,
     "schema_version": 3,
     "solution": true,
     "task": false
    }
   },
   "outputs": [],
   "source": [
    "def sync_update_labels(graph, labels):\n",
    "    # YOUR CODE HERE\n",
    "    raise NotImplementedError()"
   ]
  },
  {
   "cell_type": "code",
   "execution_count": null,
   "metadata": {
    "deletable": false,
    "editable": false,
    "nbgrader": {
     "cell_type": "code",
     "checksum": "24624a39f2a3f2f03675b799f2f3959c",
     "grade": true,
     "grade_id": "cell-5ffe01098dbcbfbd",
     "locked": true,
     "points": 1.5,
     "schema_version": 3,
     "solution": false,
     "task": false
    }
   },
   "outputs": [],
   "source": [
    "nodes = set()\n",
    "for _ in range(100):\n",
    "    triadeG = nx.Graph([(0, 1), (0, 2)])\n",
    "    labels = np.array(list(triadeG.nodes))\n",
    "    labels = sync_update_labels(triadeG, labels)\n",
    "    nodes = nodes.union(labels)\n",
    "assert set([0, 1, 2]) == nodes # check randomness\n",
    "labels = np.array(list(lesG.nodes)) # initial partition\n",
    "new_labels = sync_update_labels(lesG, labels)\n",
    "assert new_labels.shape == (77, )\n",
    "assert len(set(new_labels)) < len(set(labels))\n",
    "for _ in range(30):\n",
    "    new_labels = sync_update_labels(lesG, new_labels)\n",
    "assert len(set(new_labels)) > 1\n",
    "starG = nx.star_graph(4)\n",
    "labels = np.array(list(starG.nodes)) # initial partition\n",
    "for _ in range(5):\n",
    "    labels = sync_update_labels(starG, labels)\n",
    "new_labels = sync_update_labels(starG, labels)\n",
    "assert len(set(new_labels - labels)) == 2\n",
    "assert np.sum(list(set(new_labels - labels))) == 0"
   ]
  },
  {
   "cell_type": "code",
   "execution_count": null,
   "metadata": {},
   "outputs": [],
   "source": [
    "def plot_propagation(G, update_method, n=50):\n",
    "    pos=nx.kamada_kawai_layout(G)\n",
    "    labels = np.array(list(G.nodes))\n",
    "    for i in range(n):\n",
    "        clear_output(wait=True)\n",
    "        labels = update_method(G, labels)\n",
    "        plt.figure(figsize=(8, 8))\n",
    "        nx.draw_networkx_nodes(\n",
    "            G, \n",
    "            pos=pos, \n",
    "            node_color=labels, \n",
    "            cmap=plt.cm.rainbow,\n",
    "            node_size=100, \n",
    "            edgecolors='black'\n",
    "        )\n",
    "        nx.draw_networkx_edges(G, pos=pos, alpha=0.2)\n",
    "        plt.axis('off')\n",
    "        plt.title('Iteration {}/{}'.format(i+1, n))\n",
    "        plt.show()"
   ]
  },
  {
   "cell_type": "code",
   "execution_count": null,
   "metadata": {},
   "outputs": [],
   "source": [
    "plot_propagation(lesG, sync_update_labels, 30)"
   ]
  },
  {
   "cell_type": "markdown",
   "metadata": {},
   "source": [
    "Notice that synchronous propagation can lead to oscillations of some labels in the network that are bi-partite or nearly bi-partite in structure. This is especially true in cases where communities take the form of a star graph."
   ]
  },
  {
   "cell_type": "code",
   "execution_count": null,
   "metadata": {},
   "outputs": [],
   "source": [
    "plot_propagation(nx.star_graph(30), sync_update_labels, 10)"
   ]
  },
  {
   "cell_type": "markdown",
   "metadata": {},
   "source": [
    "For this reason, most label propagation algorithms implement asynchronous propagation. At every iteration of label propagation, the labels of the nodes are no longer updated all together, but sequentially in some random order, which is different for each iteration. This is in contrast to synchronous propagation, which always considers the labels from the previous iteration. Due to random order of label updates, asynchronous propagation successfully breaks the cyclic oscillations of labels.\n",
    "\n",
    "Write a function `async_update_labels` that makes asynchronous label updating. The order in which all the n nodes in the network are updated is chosen randomly at each iteration."
   ]
  },
  {
   "cell_type": "code",
   "execution_count": null,
   "metadata": {
    "deletable": false,
    "nbgrader": {
     "cell_type": "code",
     "checksum": "593d69d04a8d304277fdef1df4bba21d",
     "grade": false,
     "grade_id": "cell-416353e8934258da",
     "locked": false,
     "schema_version": 3,
     "solution": true,
     "task": false
    }
   },
   "outputs": [],
   "source": [
    "def async_update_labels(graph, labels):\n",
    "    # YOUR CODE HERE\n",
    "    raise NotImplementedError()"
   ]
  },
  {
   "cell_type": "code",
   "execution_count": null,
   "metadata": {
    "deletable": false,
    "editable": false,
    "nbgrader": {
     "cell_type": "code",
     "checksum": "364f8732f0f94fb4c97de1739a22be07",
     "grade": true,
     "grade_id": "cell-c0271cbd0e8116aa",
     "locked": true,
     "points": 1.5,
     "schema_version": 3,
     "solution": false,
     "task": false
    }
   },
   "outputs": [],
   "source": [
    "labels = np.array(list(lesG.nodes)) # initial partition\n",
    "new_labels = async_update_labels(lesG, labels)\n",
    "assert new_labels.shape == (77, )\n",
    "assert len(set(new_labels)) < len(set(labels))\n",
    "labels = np.array(list(starG.nodes)) # initial partition\n",
    "for _ in range(5):\n",
    "    labels = async_update_labels(starG, labels)\n",
    "new_labels = async_update_labels(starG, labels)\n",
    "assert np.all(new_labels - labels == 0)"
   ]
  },
  {
   "cell_type": "code",
   "execution_count": null,
   "metadata": {},
   "outputs": [],
   "source": [
    "plot_propagation(nx.star_graph(30), async_update_labels, 10)"
   ]
  },
  {
   "cell_type": "code",
   "execution_count": null,
   "metadata": {},
   "outputs": [],
   "source": [
    "plot_propagation(lesG, async_update_labels, 30)"
   ]
  },
  {
   "cell_type": "markdown",
   "metadata": {},
   "source": [
    "### Task 4. Ego-Splitting (3 points)"
   ]
  },
  {
   "cell_type": "markdown",
   "metadata": {},
   "source": [
    "Ego-Splitting is a framework for detecting clusters in complex networks which leverage the local structures known as ego-nets (i.e. the subgraph induced by the neighborhood of each node) to detect overlapping clusters. Ego-splittng is a highly scalable and flexible framework, with provable theoretical guarantees, that reduces the complex overlapping clustering problem to a simpler and more amenable non-overlapping (partitioning) problem."
   ]
  },
  {
   "cell_type": "markdown",
   "metadata": {},
   "source": [
    "Let us consider the algorithm on this small graph."
   ]
  },
  {
   "cell_type": "code",
   "execution_count": null,
   "metadata": {},
   "outputs": [],
   "source": [
    "adjlist = [\n",
    "    'a b c e h g i',\n",
    "    'f b c e h g i',\n",
    "    'b e c',\n",
    "    'g i h',\n",
    "    'e c d',\n",
    "    'c d',\n",
    "    'i h j',\n",
    "    'h j',\n",
    "    'j d k',\n",
    "    'd k'\n",
    "]\n",
    "G = nx.parse_adjlist(adjlist)\n",
    "plt.figure(figsize=(5, 5))\n",
    "pos = nx.kamada_kawai_layout(G)\n",
    "nx.draw_networkx(\n",
    "    G, pos, node_size=400, node_color='lightgray')\n",
    "plt.axis('off');"
   ]
  },
  {
   "cell_type": "markdown",
   "metadata": {},
   "source": [
    "The ego-splitting algorithm processes a graph and outputs a set of clusters as follows:\n",
    "1. For each node we use the local clustering algorithm to partition the ego-net of the node.\n",
    "2. Create a persona graph. Each node in the graph will correspond to $n$ \"personas\" (nodes in persona graph) where $n$ is a number of clusters in node's ego-net.\n",
    "3. Apply the global clustering algorithm."
   ]
  },
  {
   "cell_type": "markdown",
   "metadata": {},
   "source": [
    "![](https://raw.githubusercontent.com/netspractice/network-science/main/images/ego_splitting.png)"
   ]
  },
  {
   "cell_type": "code",
   "execution_count": null,
   "metadata": {
    "deletable": false,
    "editable": false,
    "nbgrader": {
     "cell_type": "code",
     "checksum": "257c2920d75e96b8040650012f7138ae",
     "grade": false,
     "grade_id": "cell-c6992274eca070b4",
     "locked": true,
     "schema_version": 3,
     "solution": false,
     "task": false
    }
   },
   "outputs": [],
   "source": [
    "def ego_splitting(graph):\n",
    "    ego_nets = generate_ego_nets(graph)\n",
    "    persona_graph = generate_persona_graph(ego_nets)\n",
    "    return persona_clustering(personaG)"
   ]
  },
  {
   "cell_type": "markdown",
   "metadata": {},
   "source": [
    "Write a function `generate_ego_nets` that takes a graph and returns a dictionary where keys are nodes and values are their ego-nets:\n",
    "\n",
    "`{'a': ego-net of the node a, 'b': ego-net of the node b, ...}`\n",
    "\n",
    "Ego-net *does not* include the ego-node.\n",
    "\n",
    "*Hint: use `nx.ego_graph`*"
   ]
  },
  {
   "cell_type": "code",
   "execution_count": null,
   "metadata": {
    "deletable": false,
    "nbgrader": {
     "cell_type": "code",
     "checksum": "39a8e88dfed4b923ddb5f9e0b40173f9",
     "grade": false,
     "grade_id": "cell-179c8ceed0004966",
     "locked": false,
     "schema_version": 3,
     "solution": true,
     "task": false
    }
   },
   "outputs": [],
   "source": [
    "def generate_ego_nets(graph):\n",
    "    # YOUR CODE HERE\n",
    "    raise NotImplementedError()"
   ]
  },
  {
   "cell_type": "code",
   "execution_count": null,
   "metadata": {
    "deletable": false,
    "editable": false,
    "nbgrader": {
     "cell_type": "code",
     "checksum": "6a6e7ef3a9b684adb8034c5d9605c9b7",
     "grade": true,
     "grade_id": "cell-e9a468663cd92c49",
     "locked": true,
     "points": 1.5,
     "schema_version": 3,
     "solution": false,
     "task": false
    }
   },
   "outputs": [],
   "source": [
    "ego_nets = generate_ego_nets(G)\n",
    "assert set(ego_nets.keys()) == {'a', 'b', 'c', 'd', 'e', 'f', 'g', 'h', 'i', 'j', 'k'}\n",
    "assert set(ego_nets['d'].nodes) == {'c', 'e', 'j', 'k'}\n",
    "assert set(ego_nets['f'].nodes) == {'b', 'c', 'e', 'g', 'h', 'i'}"
   ]
  },
  {
   "cell_type": "code",
   "execution_count": null,
   "metadata": {},
   "outputs": [],
   "source": [
    "nx.draw_networkx(ego_nets['f'], pos=nx.kamada_kawai_layout(G), \n",
    "        node_color='lightgray', node_size=400)\n",
    "plt.title('Ego-net of the node f')\n",
    "plt.axis('off')\n",
    "plt.show()"
   ]
  },
  {
   "cell_type": "markdown",
   "metadata": {},
   "source": [
    "Next, we need to split each ego-net using any clustering method. Let it be the simple connected component detection method. "
   ]
  },
  {
   "cell_type": "code",
   "execution_count": null,
   "metadata": {
    "deletable": false,
    "editable": false,
    "nbgrader": {
     "cell_type": "code",
     "checksum": "62cafb7a10d2aa3b7c6c8c8992b05d98",
     "grade": false,
     "grade_id": "cell-95005b99ee9acd1b",
     "locked": true,
     "schema_version": 3,
     "solution": false,
     "task": false
    }
   },
   "outputs": [],
   "source": [
    "def ego_clustering(graph):\n",
    "    return [cc for cc in nx.connected_components(graph)]"
   ]
  },
  {
   "cell_type": "markdown",
   "metadata": {},
   "source": [
    "Write a function `generate_persona_graph` that takes an ego-net dictionary and returns a persona graph:\n",
    "1. Add a persona into each cluster in an ego-net and link it to each member. If there is more than one cluster then the persona name is the node name + cluster index. For example, if the ego-net `a` has two clusters `[b, c]` and `[d]` then we add peronas `a0, a1` and links `[a0, b]`, `[a0, c]`, `[a1, d]`.\n",
    "2. Union all ego-nets into persona graph. \n",
    "3. Remove extra initial nodes that have personas. For example, if the persona graph has nodes `a`, `a0`, `a1`, then remove the node `a`."
   ]
  },
  {
   "cell_type": "code",
   "execution_count": null,
   "metadata": {
    "deletable": false,
    "nbgrader": {
     "cell_type": "code",
     "checksum": "f3d4d56a1f2f3b4173789e1810601c3c",
     "grade": false,
     "grade_id": "cell-91ff677c8729f5bf",
     "locked": false,
     "schema_version": 3,
     "solution": true,
     "task": false
    }
   },
   "outputs": [],
   "source": [
    "def generate_persona_graph(ego_nets):\n",
    "    # YOUR CODE HERE\n",
    "    raise NotImplementedError()"
   ]
  },
  {
   "cell_type": "code",
   "execution_count": null,
   "metadata": {
    "deletable": false,
    "editable": false,
    "nbgrader": {
     "cell_type": "code",
     "checksum": "272703eb5800b9f982de9beaf914ce5d",
     "grade": true,
     "grade_id": "cell-964d19c73fa2da58",
     "locked": true,
     "points": 1.5,
     "schema_version": 3,
     "solution": false,
     "task": false
    }
   },
   "outputs": [],
   "source": [
    "ego_nets = generate_ego_nets(G)\n",
    "personaG = generate_persona_graph(ego_nets)\n",
    "assert set(personaG.nodes) == {'i', 'f0', 'k', 'c', 'd0', 'a0', 'g', 'j0', 'e', 'h', 'd1', 'a1', 'j1', 'f1', 'b'}\n",
    "assert {i[0] for i in personaG.neighbors('k')} == {'d', 'j'}\n",
    "assert {i[0] for i in personaG.neighbors('g')} == {'a', 'f', 'h', 'i'}"
   ]
  },
  {
   "cell_type": "code",
   "execution_count": null,
   "metadata": {},
   "outputs": [],
   "source": [
    "pos = nx.kamada_kawai_layout(G)\n",
    "personapos = {}\n",
    "for node in personaG.nodes:\n",
    "    personapos[node] = pos[node[0]].copy()\n",
    "    if len(node) > 1:\n",
    "        personapos[node][0] += 0.05 if node[1] == '0' else -0.05\n",
    "        personapos[node][1] += 0.05 if node[1] == '0' else -0.05\n",
    "plt.figure(figsize=(5, 5))\n",
    "nx.draw_networkx(personaG, personapos, node_size=300, node_color='lightgray')\n",
    "plt.axis('off');"
   ]
  },
  {
   "cell_type": "markdown",
   "metadata": {},
   "source": [
    "Finally, we need to apply any clustering algorithm for the persona graph. Let it again be the simple connected component detection algorithm. Also, here we remove the cluster indexes from node names."
   ]
  },
  {
   "cell_type": "code",
   "execution_count": null,
   "metadata": {
    "deletable": false,
    "editable": false,
    "nbgrader": {
     "cell_type": "code",
     "checksum": "894e6d81fc031ffe964a8b9d88c16828",
     "grade": false,
     "grade_id": "cell-e1224bd9ceeb3e42",
     "locked": true,
     "schema_version": 3,
     "solution": false,
     "task": false
    }
   },
   "outputs": [],
   "source": [
    "def persona_clustering(graph):\n",
    "    communities = []\n",
    "    for cc in nx.connected_components(graph):\n",
    "        communities.append([node[0] for node in cc])\n",
    "    return communities"
   ]
  },
  {
   "cell_type": "code",
   "execution_count": null,
   "metadata": {},
   "outputs": [],
   "source": [
    "plt.figure(figsize=(15, 5))\n",
    "pos = nx.kamada_kawai_layout(G)\n",
    "c_colors = ['tab:orange', 'tab:blue', 'tab:green']\n",
    "for i, c in enumerate(ego_splitting(G)):\n",
    "    plt.subplot(1, 3, i+1)\n",
    "    color = []\n",
    "    for node in G.nodes:\n",
    "        color.append(c_colors[i] if node in c else 'white')\n",
    "    nx.draw_networkx(G, pos=pos, node_color=color, \n",
    "                     edgecolors='black', node_size=400)\n",
    "    plt.axis('off')\n",
    "    plt.title('Community {}'.format(i+1))"
   ]
  },
  {
   "cell_type": "code",
   "execution_count": null,
   "metadata": {},
   "outputs": [],
   "source": []
  }
 ],
 "metadata": {
  "kernelspec": {
   "display_name": "Python 3",
   "language": "python",
   "name": "python3"
  },
  "language_info": {
   "codemirror_mode": {
    "name": "ipython",
    "version": 3
   },
   "file_extension": ".py",
   "mimetype": "text/x-python",
   "name": "python",
   "nbconvert_exporter": "python",
   "pygments_lexer": "ipython3",
   "version": "3.7.4"
  }
 },
 "nbformat": 4,
 "nbformat_minor": 4
}

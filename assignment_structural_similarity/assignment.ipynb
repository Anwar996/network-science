{
 "cells": [
  {
   "cell_type": "markdown",
   "metadata": {},
   "source": [
    "# Assignment — Structural similairy"
   ]
  },
  {
   "cell_type": "code",
   "execution_count": null,
   "metadata": {},
   "outputs": [],
   "source": [
    "from scipy.sparse import csr_matrix\n",
    "import requests\n",
    "import matplotlib.pyplot as plt\n",
    "import seaborn as sns\n",
    "from sklearn.metrics.pairwise import cosine_similarity\n",
    "import pandas as pd\n",
    "from scipy.sparse.csgraph import reverse_cuthill_mckee\n",
    "import networkx as nx\n",
    "import numpy as np"
   ]
  },
  {
   "cell_type": "markdown",
   "metadata": {},
   "source": [
    "### Task 1. Similarity measures (4 points)"
   ]
  },
  {
   "cell_type": "markdown",
   "metadata": {},
   "source": [
    "In this section we will look at how nodes can be similar to each other. We will consider the movie co-watch dataset. The dataset is builded based on the MovieLens-100k data. The films have links between when one user gives them the highest rate and watch both."
   ]
  },
  {
   "cell_type": "code",
   "execution_count": null,
   "metadata": {},
   "outputs": [],
   "source": [
    "url = \"https://raw.githubusercontent.com/netspractice/network-science/main/datasets/movies.gml\"\n",
    "open('movie-cowatch.gml', 'wb').write(requests.get(url).content)\n",
    "G = nx.read_gml('movie-cowatch.gml')\n",
    "G = nx.convert_node_labels_to_integers(G)"
   ]
  },
  {
   "cell_type": "code",
   "execution_count": null,
   "metadata": {},
   "outputs": [],
   "source": [
    "labs = nx.get_node_attributes(G, \"movieName\")\n",
    "labs = {i:labs[i][:15] if len(labs[i])<=15 else labs[i][:15] + '...' for i in labs}\n",
    "plt.figure(figsize=(10, 10))\n",
    "plt.gca().axis('off')\n",
    "\n",
    "pos = nx.kamada_kawai_layout(G)\n",
    "nx.draw_networkx_nodes(\n",
    "    G,\n",
    "    pos,\n",
    "    node_color='tab:cyan'\n",
    ")\n",
    "nx.draw_networkx_edges(\n",
    "    G,\n",
    "    pos,\n",
    "    width=2,\n",
    "    alpha=0.1,\n",
    ")\n",
    "nx.draw_networkx_labels(\n",
    "    G,\n",
    "    pos,\n",
    "    labels=labs\n",
    ")\n",
    "plt.show()"
   ]
  },
  {
   "cell_type": "markdown",
   "metadata": {},
   "source": [
    "Write a function `sim_matrices` that takes a graph and returns a tuple with similarity matrices:\n",
    "* Adjacency matrix\n",
    "* Pearson correlation\n",
    "* Jaccard similarity\n",
    "* Cosine similarity\n",
    "\n",
    "Look at networkx, sklearn, numpy."
   ]
  },
  {
   "cell_type": "code",
   "execution_count": null,
   "metadata": {
    "deletable": false,
    "nbgrader": {
     "cell_type": "code",
     "checksum": "a4675ca8cd1017e9253e288075ef2d94",
     "grade": false,
     "grade_id": "cell-573a4e98e9a01195",
     "locked": false,
     "schema_version": 3,
     "solution": true,
     "task": false
    }
   },
   "outputs": [],
   "source": [
    "def sim_matrices(G):\n",
    "    # YOUR CODE HERE\n",
    "    raise NotImplementedError()"
   ]
  },
  {
   "cell_type": "code",
   "execution_count": null,
   "metadata": {
    "deletable": false,
    "editable": false,
    "nbgrader": {
     "cell_type": "code",
     "checksum": "eee764b4a416884120c86a319e594c0b",
     "grade": true,
     "grade_id": "cell-a9782cc7dfcdf06d",
     "locked": true,
     "points": 4.0,
     "schema_version": 3,
     "solution": false,
     "task": false
    }
   },
   "outputs": [],
   "source": [
    "A, corr, J, cos = sim_matrices(G)\n",
    "assert A.shape == corr.shape == J.shape == cos.shape == (34,34)\n",
    "assert A[0].sum() == 33\n",
    "assert corr[0].sum().round(4) == -2.5541\n",
    "assert J[1].sum().round(4) == 2.7667\n",
    "assert cos[0].sum().round(4) == 28.4601"
   ]
  },
  {
   "cell_type": "markdown",
   "metadata": {},
   "source": [
    "Let us draw heatmaps of these similarities."
   ]
  },
  {
   "cell_type": "code",
   "execution_count": null,
   "metadata": {},
   "outputs": [],
   "source": [
    "fig = plt.figure(figsize=(9, 9*4))\n",
    "plt.subplots_adjust(hspace=0.4, wspace=0.4)\n",
    "cases = [[1, A, plt.cm.Greys, 'Adjacency matrix'], \n",
    "         [2, corr, None, 'Pearson correlation'], \n",
    "         [3, J, None, 'Jaccard similarity'], \n",
    "         [4, cos, None, 'Cosine similarity'], ]\n",
    "for i, matrix, cmap, t in cases:\n",
    "    plt.subplot(4, 1, i)\n",
    "    hmap = sns.heatmap(\n",
    "        matrix,\n",
    "        cmap=cmap,\n",
    "        square=True,\n",
    "        yticklabels=[labs.get(i) for i in G.nodes])\n",
    "    hmap.set_xticklabels(\n",
    "        labels=[labs.get(i) for i in G.nodes], \n",
    "        horizontalalignment='right')\n",
    "    plt.title(t)"
   ]
  },
  {
   "cell_type": "markdown",
   "metadata": {},
   "source": [
    "### Task 2. Reordering of nodes (3 points)"
   ]
  },
  {
   "cell_type": "markdown",
   "metadata": {},
   "source": [
    "Without special preprocess procedures an adjacency matrix can look very noisy and hide network's structure. There are some procedures of node reordering that provides a better view of the network's adjacency matrix. Reverse Cuthill-McKee finds permutation of the nodes that minimizes the bandwidth of the matrix, which is calculated as\n",
    "\n",
    "$$ \\theta = \\max_{a_{ij} > 0}|i-j|$$\n",
    "\n",
    "Unformally, this algorithm puts some mass on the diagonal of adjacency matrix. \n",
    "\n",
    "Write a function `cm_order` that takes a graph and returns a np.array with a permutation of the form $[i_1, i_2, \\dots, i_n]$ where $i_1$ is an index of the first row and the first column.\n",
    "\n",
    "Apply `scipy.sparse.csgraph.reverse_cuthill_mckee` or `nx.utils.reverse_cuthill_mckee_ordering`."
   ]
  },
  {
   "cell_type": "code",
   "execution_count": null,
   "metadata": {
    "deletable": false,
    "nbgrader": {
     "cell_type": "code",
     "checksum": "b00bb7c47401a601c3121fcb9e59036b",
     "grade": false,
     "grade_id": "cell-aebff5f597011ed8",
     "locked": false,
     "schema_version": 3,
     "solution": true,
     "task": false
    }
   },
   "outputs": [],
   "source": [
    "def cm_order(G):\n",
    "    # YOUR CODE HERE\n",
    "    raise NotImplementedError()"
   ]
  },
  {
   "cell_type": "code",
   "execution_count": null,
   "metadata": {
    "deletable": false,
    "editable": false,
    "nbgrader": {
     "cell_type": "code",
     "checksum": "d5b52cd21accbc753e9d5cd159d7977f",
     "grade": true,
     "grade_id": "cell-3bfc3b5f9b286f1d",
     "locked": true,
     "points": 3.0,
     "schema_version": 3,
     "solution": false,
     "task": false
    }
   },
   "outputs": [],
   "source": [
    "order = cm_order(G)\n",
    "assert order.shape == (34,)\n",
    "assert order[4:6].sum() < order[:3].sum() < order[4:7].sum()"
   ]
  },
  {
   "cell_type": "markdown",
   "metadata": {},
   "source": [
    "Let us draw the heatmaps with a default and changed order side-by-side. A default order will be on the left, a changed order — on the right."
   ]
  },
  {
   "cell_type": "code",
   "execution_count": null,
   "metadata": {},
   "outputs": [],
   "source": [
    "fig = plt.figure(figsize=(16, 16*2))\n",
    "plt.subplots_adjust(hspace=0.4, wspace=0.4)\n",
    "\n",
    "cases = [[1, A, plt.cm.Greys, 'Adjacency', range(34)],\n",
    "         [2, A, plt.cm.Greys, 'Adjacency (reordered)', order],\n",
    "         [3, corr, None, 'Pearson correlation', range(34)], \n",
    "         [4, corr, None, 'Pearson correlation (reordered)', order], \n",
    "         [5, J, None, 'Jaccard similarity', range(34)], \n",
    "         [6, J, None, 'Jaccard similarity (reordered)', order], \n",
    "         [7, cos, None, 'Cosine similarity', range(34)], \n",
    "         [8, cos, None, 'Cosine similarity (reordered)', order]]\n",
    "\n",
    "newLabs = np.array([labs.get(i) for i in G.nodes])\n",
    "\n",
    "for i, matrix, cmap, t, o in cases:\n",
    "    plt.subplot(4, 2, i)\n",
    "    hmap = sns.heatmap(\n",
    "        matrix[np.ix_(o, o)],\n",
    "        cmap=cmap,\n",
    "        cbar=False,\n",
    "        square=True,\n",
    "        yticklabels=newLabs[o])\n",
    "    hmap.set_xticklabels(\n",
    "        labels=newLabs[o], \n",
    "        rotation=90)\n",
    "    plt.title(t)"
   ]
  },
  {
   "cell_type": "markdown",
   "metadata": {},
   "source": [
    "We can observe that the right-hand heatmaps look smoother, and we can detect dense regions on them."
   ]
  },
  {
   "cell_type": "markdown",
   "metadata": {},
   "source": [
    "### Task 3. Assortative Mixing (3 points)"
   ]
  },
  {
   "cell_type": "markdown",
   "metadata": {},
   "source": [
    "In this task, we look at the same dataset. One can find that graph have attribute `Genre`. Let us draw assortative mixing of a `Genre` attribute. How often persons from one house kills persons from another?\n",
    "\n",
    "Write a function `genre_mixing` that takes a graph `G` and returns tuple with a matrix of assortative mixing `nx.attribute_mixing_matrix` by a `Genre` attribute and a dictionary with mapping of the form\n",
    "* `{genre: index in the matrix}`"
   ]
  },
  {
   "cell_type": "code",
   "execution_count": null,
   "metadata": {
    "deletable": false,
    "nbgrader": {
     "cell_type": "code",
     "checksum": "9cf7b11e1f792471d0ea7b04e94728a4",
     "grade": false,
     "grade_id": "cell-79c873b1cebc9371",
     "locked": false,
     "schema_version": 3,
     "solution": true,
     "task": false
    }
   },
   "outputs": [],
   "source": [
    "def genre_mixing(G):\n",
    "    # YOUR CODE HERE\n",
    "    raise NotImplementedError()"
   ]
  },
  {
   "cell_type": "code",
   "execution_count": null,
   "metadata": {
    "deletable": false,
    "editable": false,
    "nbgrader": {
     "cell_type": "code",
     "checksum": "03c883d2e6bea936e51756e0ee93ad58",
     "grade": true,
     "grade_id": "cell-fcea4b43c9640440",
     "locked": true,
     "points": 3.0,
     "schema_version": 3,
     "solution": false,
     "task": false
    }
   },
   "outputs": [],
   "source": [
    "mixing, mapping = genre_mixing(G)\n",
    "assert mixing.shape == (8, 8)\n",
    "assert mixing.max() < 0.08\n",
    "assert mixing.min() == 0\n",
    "assert mapping.get(\"Comedy\") is not None"
   ]
  },
  {
   "cell_type": "code",
   "execution_count": null,
   "metadata": {},
   "outputs": [],
   "source": [
    "fig = plt.figure(figsize=(8, 8))\n",
    "hmap = sns.heatmap(\n",
    "    mixing,\n",
    "    cbar=False,\n",
    "    annot=True,\n",
    "    square=True)\n",
    "hmap.set_xticklabels(\n",
    "    labels=[m for m in mapping], \n",
    "    rotation=45, \n",
    "    horizontalalignment='right')\n",
    "hmap.set_yticklabels(\n",
    "    labels=[m for m in mapping], \n",
    "    rotation=0)\n",
    "plt.show()"
   ]
  },
  {
   "cell_type": "code",
   "execution_count": null,
   "metadata": {},
   "outputs": [],
   "source": []
  }
 ],
 "metadata": {
  "kernelspec": {
   "display_name": "Python 3",
   "language": "python",
   "name": "python3"
  },
  "language_info": {
   "codemirror_mode": {
    "name": "ipython",
    "version": 3
   },
   "file_extension": ".py",
   "mimetype": "text/x-python",
   "name": "python",
   "nbconvert_exporter": "python",
   "pygments_lexer": "ipython3",
   "version": "3.7.4"
  }
 },
 "nbformat": 4,
 "nbformat_minor": 4
}

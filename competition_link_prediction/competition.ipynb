{
 "cells": [
  {
   "cell_type": "markdown",
   "metadata": {},
   "source": [
    "# Competition — Link Prediction"
   ]
  },
  {
   "cell_type": "markdown",
   "metadata": {},
   "source": [
    "### Challenge Overview"
   ]
  },
  {
   "cell_type": "markdown",
   "metadata": {},
   "source": [
    "The dateset represents a directed graph where nodes are publications and edges are citations. Each publication is described by a 32-dimensional embedding of the title and abstract. 3539 edges were randomly selected and deleted from the graph, let us call them positive edges. 3539 pairs of nodes with no edges between them were randomly selected, let us call them negative edges. Positive and negative edges were combined together into a set of unlabeled edges.\n",
    "\n",
    "The [dataset](https://github.com/netspractice/network-science/tree/main/competition_link_prediction) is represented by 3 files:\n",
    "* `node_feat.txt` contains node features in the format:\n",
    "    * `<32 real values>`\n",
    "* `train_edges.txt` contains links between nodes in the format:\n",
    "    * `<source id> <destination id>`\n",
    "* `unlabeled_edges.txt` contains unlabeled pairs of nodes in the format:\n",
    "    * `<source id> <destination id>`\n",
    "\n",
    "Node features are ordered by node ids. Your task is to predict labels for unlabeled pairs of nodes: 0 — disconnected, 1 — connected.\n",
    "\n",
    "Hints:\n",
    "* Consider the features only. Fit a classificator on edge embeddings to predict links.\n",
    "* Consider the structure only. Create a graph and train any structural embedding model to obtain node embeddings. Fit a classificator on edge embeddings to predict links.\n",
    "* Consider the both structure and features. Create a graph and train any GNN model to obtain edge embeddings. Minimize the link prediction error by gradient descent.\n",
    "* Concatenate (multiply, sum up, average) pairs of node embeddings to obtain edge embeddings.\n",
    "* Combine embeddings from heterogeneous models."
   ]
  },
  {
   "cell_type": "markdown",
   "metadata": {},
   "source": [
    "### Evaluation Criteria"
   ]
  },
  {
   "cell_type": "markdown",
   "metadata": {},
   "source": [
    "Here are balanced classes, so the usual accuracy metric is used:\n",
    "\n",
    "* Accuracy = True predictions / All predictions\n",
    "\n",
    "You can find baselines for grade 4, 6, 8 in the leaderboard."
   ]
  },
  {
   "cell_type": "markdown",
   "metadata": {},
   "source": [
    "### Submission Guidelines"
   ]
  },
  {
   "cell_type": "markdown",
   "metadata": {},
   "source": [
    "Upload the txt file with your predictions sepateted by line break. For example:\n",
    "```\n",
    "1\n",
    "1\n",
    "0\n",
    "1\n",
    "0\n",
    "```\n",
    "... and so on."
   ]
  },
  {
   "cell_type": "code",
   "execution_count": null,
   "metadata": {},
   "outputs": [],
   "source": []
  }
 ],
 "metadata": {
  "kernelspec": {
   "display_name": "Python 3",
   "language": "python",
   "name": "python3"
  },
  "language_info": {
   "codemirror_mode": {
    "name": "ipython",
    "version": 3
   },
   "file_extension": ".py",
   "mimetype": "text/x-python",
   "name": "python",
   "nbconvert_exporter": "python",
   "pygments_lexer": "ipython3",
   "version": "3.7.4"
  }
 },
 "nbformat": 4,
 "nbformat_minor": 4
}
